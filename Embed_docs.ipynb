{
  "nbformat": 4,
  "nbformat_minor": 0,
  "metadata": {
    "colab": {
      "name": "Embed_files.ipynb",
      "provenance": [],
      "collapsed_sections": []
    },
    "kernelspec": {
      "name": "python3",
      "display_name": "Python 3"
    }
  },
  "cells": [
    {
      "cell_type": "code",
      "metadata": {
        "id": "9ojcmSlikjCN",
        "colab_type": "code",
        "outputId": "9fc789ff-56ac-493b-b71b-835748008d61",
        "colab": {
          "base_uri": "https://localhost:8080/",
          "height": 845
        }
      },
      "source": [
        "!pip install sentence_transformers"
      ],
      "execution_count": 0,
      "outputs": [
        {
          "output_type": "stream",
          "text": [
            "Collecting sentence_transformers\n",
            "\u001b[?25l  Downloading https://files.pythonhosted.org/packages/b9/46/b7d6c37d92d1bd65319220beabe4df845434930e3f30e42d3cfaecb74dc4/sentence-transformers-0.2.6.1.tar.gz (55kB)\n",
            "\u001b[K     |████████████████████████████████| 61kB 4.1MB/s \n",
            "\u001b[?25hCollecting transformers>=2.8.0\n",
            "\u001b[?25l  Downloading https://files.pythonhosted.org/packages/12/b5/ac41e3e95205ebf53439e4dd087c58e9fd371fd8e3724f2b9b4cdb8282e5/transformers-2.10.0-py3-none-any.whl (660kB)\n",
            "\u001b[K     |████████████████████████████████| 665kB 12.9MB/s \n",
            "\u001b[?25hRequirement already satisfied: tqdm in /usr/local/lib/python3.6/dist-packages (from sentence_transformers) (4.41.1)\n",
            "Requirement already satisfied: torch>=1.0.1 in /usr/local/lib/python3.6/dist-packages (from sentence_transformers) (1.5.0+cu101)\n",
            "Requirement already satisfied: numpy in /usr/local/lib/python3.6/dist-packages (from sentence_transformers) (1.18.4)\n",
            "Requirement already satisfied: scikit-learn in /usr/local/lib/python3.6/dist-packages (from sentence_transformers) (0.22.2.post1)\n",
            "Requirement already satisfied: scipy in /usr/local/lib/python3.6/dist-packages (from sentence_transformers) (1.4.1)\n",
            "Requirement already satisfied: nltk in /usr/local/lib/python3.6/dist-packages (from sentence_transformers) (3.2.5)\n",
            "Requirement already satisfied: requests in /usr/local/lib/python3.6/dist-packages (from transformers>=2.8.0->sentence_transformers) (2.23.0)\n",
            "Collecting tokenizers==0.7.0\n",
            "\u001b[?25l  Downloading https://files.pythonhosted.org/packages/14/e5/a26eb4716523808bb0a799fcfdceb6ebf77a18169d9591b2f46a9adb87d9/tokenizers-0.7.0-cp36-cp36m-manylinux1_x86_64.whl (3.8MB)\n",
            "\u001b[K     |████████████████████████████████| 3.8MB 23.7MB/s \n",
            "\u001b[?25hRequirement already satisfied: dataclasses; python_version < \"3.7\" in /usr/local/lib/python3.6/dist-packages (from transformers>=2.8.0->sentence_transformers) (0.7)\n",
            "Requirement already satisfied: regex!=2019.12.17 in /usr/local/lib/python3.6/dist-packages (from transformers>=2.8.0->sentence_transformers) (2019.12.20)\n",
            "Collecting sentencepiece\n",
            "\u001b[?25l  Downloading https://files.pythonhosted.org/packages/d4/a4/d0a884c4300004a78cca907a6ff9a5e9fe4f090f5d95ab341c53d28cbc58/sentencepiece-0.1.91-cp36-cp36m-manylinux1_x86_64.whl (1.1MB)\n",
            "\u001b[K     |████████████████████████████████| 1.1MB 47.4MB/s \n",
            "\u001b[?25hRequirement already satisfied: filelock in /usr/local/lib/python3.6/dist-packages (from transformers>=2.8.0->sentence_transformers) (3.0.12)\n",
            "Collecting sacremoses\n",
            "\u001b[?25l  Downloading https://files.pythonhosted.org/packages/7d/34/09d19aff26edcc8eb2a01bed8e98f13a1537005d31e95233fd48216eed10/sacremoses-0.0.43.tar.gz (883kB)\n",
            "\u001b[K     |████████████████████████████████| 890kB 49.4MB/s \n",
            "\u001b[?25hRequirement already satisfied: future in /usr/local/lib/python3.6/dist-packages (from torch>=1.0.1->sentence_transformers) (0.16.0)\n",
            "Requirement already satisfied: joblib>=0.11 in /usr/local/lib/python3.6/dist-packages (from scikit-learn->sentence_transformers) (0.15.1)\n",
            "Requirement already satisfied: six in /usr/local/lib/python3.6/dist-packages (from nltk->sentence_transformers) (1.12.0)\n",
            "Requirement already satisfied: certifi>=2017.4.17 in /usr/local/lib/python3.6/dist-packages (from requests->transformers>=2.8.0->sentence_transformers) (2020.4.5.1)\n",
            "Requirement already satisfied: idna<3,>=2.5 in /usr/local/lib/python3.6/dist-packages (from requests->transformers>=2.8.0->sentence_transformers) (2.9)\n",
            "Requirement already satisfied: chardet<4,>=3.0.2 in /usr/local/lib/python3.6/dist-packages (from requests->transformers>=2.8.0->sentence_transformers) (3.0.4)\n",
            "Requirement already satisfied: urllib3!=1.25.0,!=1.25.1,<1.26,>=1.21.1 in /usr/local/lib/python3.6/dist-packages (from requests->transformers>=2.8.0->sentence_transformers) (1.24.3)\n",
            "Requirement already satisfied: click in /usr/local/lib/python3.6/dist-packages (from sacremoses->transformers>=2.8.0->sentence_transformers) (7.1.2)\n",
            "Building wheels for collected packages: sentence-transformers, sacremoses\n",
            "  Building wheel for sentence-transformers (setup.py) ... \u001b[?25l\u001b[?25hdone\n",
            "  Created wheel for sentence-transformers: filename=sentence_transformers-0.2.6.1-cp36-none-any.whl size=74031 sha256=95ee06c9857f4e399008c2d21766591cada49c81b5ed4b3bc315f494ab454f77\n",
            "  Stored in directory: /root/.cache/pip/wheels/d7/fa/17/2b081a8cd8b0a86753fb0e9826b3cc19f0207062c0b2da7008\n",
            "  Building wheel for sacremoses (setup.py) ... \u001b[?25l\u001b[?25hdone\n",
            "  Created wheel for sacremoses: filename=sacremoses-0.0.43-cp36-none-any.whl size=893260 sha256=bc090bd74400dbffdc96cb3a2aaf5719047b41c79cdd1927f98a322c1be5f8b2\n",
            "  Stored in directory: /root/.cache/pip/wheels/29/3c/fd/7ce5c3f0666dab31a50123635e6fb5e19ceb42ce38d4e58f45\n",
            "Successfully built sentence-transformers sacremoses\n",
            "Installing collected packages: tokenizers, sentencepiece, sacremoses, transformers, sentence-transformers\n",
            "Successfully installed sacremoses-0.0.43 sentence-transformers-0.2.6.1 sentencepiece-0.1.91 tokenizers-0.7.0 transformers-2.10.0\n"
          ],
          "name": "stdout"
        }
      ]
    },
    {
      "cell_type": "code",
      "metadata": {
        "id": "LZ85wsbxkOrw",
        "colab_type": "code",
        "colab": {}
      },
      "source": [
        "import numpy as np\n",
        "from sklearn import metrics\n",
        "import pandas as pd\n",
        "import matplotlib.pyplot as plt\n",
        "import scipy.spatial\n",
        "from nltk.metrics import precision, recall, f_measure\n",
        "from sklearn.feature_extraction.text import CountVectorizer\n",
        "from sentence_transformers import SentenceTransformer\n"
      ],
      "execution_count": 0,
      "outputs": []
    },
    {
      "cell_type": "code",
      "metadata": {
        "id": "EPtV47O1kmRI",
        "colab_type": "code",
        "outputId": "918a4f0d-f799-4be2-c9ef-042888c7574d",
        "colab": {
          "base_uri": "https://localhost:8080/",
          "height": 131
        }
      },
      "source": [
        "from google.colab import drive\n",
        "drive.mount('/content/drive')"
      ],
      "execution_count": 0,
      "outputs": [
        {
          "output_type": "stream",
          "text": [
            "Go to this URL in a browser: https://accounts.google.com/o/oauth2/auth?client_id=947318989803-6bn6qk8qdgf4n4g3pfee6491hc0brc4i.apps.googleusercontent.com&redirect_uri=urn%3aietf%3awg%3aoauth%3a2.0%3aoob&response_type=code&scope=email%20https%3a%2f%2fwww.googleapis.com%2fauth%2fdocs.test%20https%3a%2f%2fwww.googleapis.com%2fauth%2fdrive%20https%3a%2f%2fwww.googleapis.com%2fauth%2fdrive.photos.readonly%20https%3a%2f%2fwww.googleapis.com%2fauth%2fpeopleapi.readonly\n",
            "\n",
            "Enter your authorization code:\n",
            "··········\n",
            "Mounted at /content/drive\n"
          ],
          "name": "stdout"
        }
      ]
    },
    {
      "cell_type": "markdown",
      "metadata": {
        "id": "rC2re2YelqcF",
        "colab_type": "text"
      },
      "source": [
        "### preparation"
      ]
    },
    {
      "cell_type": "code",
      "metadata": {
        "id": "t5FbUE-4kxzW",
        "colab_type": "code",
        "colab": {}
      },
      "source": [
        "def load_data(path):\n",
        "    doc_data1 = pd.read_csv(path, header = None)\n",
        "    print(len(doc_data1))\n",
        "    return doc_data1"
      ],
      "execution_count": 0,
      "outputs": []
    },
    {
      "cell_type": "code",
      "metadata": {
        "id": "R3skbn9VkyAT",
        "colab_type": "code",
        "colab": {}
      },
      "source": [
        "def normalize(data):\n",
        "    sentences = (data[0].str.lower() #lowercase\n",
        "                           .str.replace(r'[^\\w\\s]+', '') #rem punctuation \n",
        "                          .str.strip()) #rem trailing whitespaces\n",
        "    return sentences"
      ],
      "execution_count": 0,
      "outputs": []
    },
    {
      "cell_type": "code",
      "metadata": {
        "id": "uoMFxc7ckx8h",
        "colab_type": "code",
        "colab": {}
      },
      "source": [
        "def get_embedd(data1, method = \"CountVectorizer\"):\n",
        "    if method in (\"use\", \"sbert\", \"sroberta\"):\n",
        "        if method == \"use\":\n",
        "            embedder = hub.load(\"https://tfhub.dev/google/universal-sentence-encoder/4\")\n",
        "            X1 = embedder(data1)\n",
        "        elif method == \"sbert\":\n",
        "            embedder = SentenceTransformer('bert-large-nli-stsb-mean-tokens')\n",
        "            X1 = embedder.encode(data1)\n",
        "        elif method == \"sroberta\":\n",
        "            embedder = SentenceTransformer('roberta-large-nli-stsb-mean-tokens')\n",
        "            X1 = embedder.encode(data1)\n",
        "    else:\n",
        "        vectorizer = CountVectorizer()\n",
        "        X1 = vectorizer.fit_transform(data1) \n",
        "        X1 = X1.toarray()\n",
        "    return X1, X1\n",
        "    "
      ],
      "execution_count": 0,
      "outputs": []
    },
    {
      "cell_type": "code",
      "metadata": {
        "id": "6-mqAN2Mkm5K",
        "colab_type": "code",
        "colab": {}
      },
      "source": [
        "def find_candidates(X1, X2):\n",
        "    closest_n = 40\n",
        "    my_data = []\n",
        "    num_sentence = 0\n",
        "    for query, query_embedd in zip(X1[0], X2):\n",
        "        distances = scipy.spatial.distance.cdist([query_embedd], X1, \"cosine\")[0]\n",
        "\n",
        "        results = zip(range(len(distances)), distances)\n",
        "        results = sorted(results, key=lambda x: x[1])\n",
        "\n",
        "        for idx, distance in results[0:closest_n]:\n",
        "            if ((1-distance) > 0.8) and (num_sentence != idx) :\n",
        "                my_data.append(idx)\n",
        "        num_sentence = num_sentence + 1\n",
        "\n",
        "   \n",
        "    my_data = list(set(my_data))\n",
        "    print(my_data)\n",
        "    return my_data\n"
      ],
      "execution_count": 0,
      "outputs": []
    },
    {
      "cell_type": "code",
      "metadata": {
        "id": "_nETxd_Wl3Fx",
        "colab_type": "code",
        "colab": {}
      },
      "source": [
        "def get_result(path_true, candidates):\n",
        "    true = load_data(path_true)\n",
        "    candidates = set(candidates)\n",
        "    true_set = set(true[4])\n",
        "    print(\"Precision: %0.3f\" % precision(true_set, candidates))\n",
        "    print(\"Recall: %0.3f\" % recall(true_set, candidates))\n",
        "    print(\"F-measure: %0.3f\" % f_measure(true_set, candidates))"
      ],
      "execution_count": 0,
      "outputs": []
    },
    {
      "cell_type": "markdown",
      "metadata": {
        "id": "InlZt0mll7En",
        "colab_type": "text"
      },
      "source": [
        "### Load data\n"
      ]
    },
    {
      "cell_type": "code",
      "metadata": {
        "id": "d_8byFu0l6VC",
        "colab_type": "code",
        "outputId": "19a11319-3f68-4533-d6a6-91fe4c44beeb",
        "colab": {
          "base_uri": "https://localhost:8080/",
          "height": 36
        }
      },
      "source": [
        "data1 = load_data('/content/drive/My Drive/Step1/slf.csv')"
      ],
      "execution_count": 1,
      "outputs": [
        {
          "output_type": "stream",
          "text": [
            "133\n"
          ],
          "name": "stdout"
        }
      ]
    },
    {
      "cell_type": "code",
      "metadata": {
        "id": "llPfBRnxl3O3",
        "colab_type": "code",
        "colab": {}
      },
      "source": [
        "data1 = normalize(data1)"
      ],
      "execution_count": 0,
      "outputs": []
    },
    {
      "cell_type": "markdown",
      "metadata": {
        "id": "W9l5QSnkmLwX",
        "colab_type": "text"
      },
      "source": [
        "### CountVect"
      ]
    },
    {
      "cell_type": "code",
      "metadata": {
        "id": "v5YY3ms7mJ86",
        "colab_type": "code",
        "colab": {}
      },
      "source": [
        "X1, X2 = get_embedd(data1)"
      ],
      "execution_count": 0,
      "outputs": []
    },
    {
      "cell_type": "code",
      "metadata": {
        "id": "Yj-8NQxzmJ56",
        "colab_type": "code",
        "outputId": "b7d5999a-1c16-4b44-fd27-94c64b01138c",
        "colab": {
          "base_uri": "https://localhost:8080/",
          "height": 56
        }
      },
      "source": [
        "candidates = find_candidates(X1,X2)"
      ],
      "execution_count": 0,
      "outputs": [
        {
          "output_type": "stream",
          "text": [
            "[9, 15, 19, 20, 27, 29, 34, 35, 36, 37, 38, 39, 40, 41, 43, 44, 46, 47, 49, 54, 55, 59, 60, 62, 63, 64, 74, 75, 76, 77, 78, 79, 80, 81, 82, 83, 84, 87, 88, 89, 90, 91, 92, 93, 94, 95, 96, 99, 102, 110, 111, 112, 113, 118, 119, 120, 127, 129, 130, 131, 136, 137, 138, 139, 140, 141, 142, 143, 146, 147, 149, 151, 152, 154, 155, 161, 162, 163, 164, 166, 168, 169, 180, 181, 182, 183, 187, 188, 190, 192, 196, 199, 202, 218, 221, 232, 234, 243, 244, 245, 246, 249, 250, 259, 260, 261, 269, 270, 271, 272, 274, 275, 276, 277, 278, 279, 280, 281, 283, 293, 294, 295, 296, 297, 298, 300, 301, 302, 304, 306, 308, 309, 310, 311, 314, 315, 317, 318, 319, 320, 321, 322, 323, 329, 336, 340, 342, 343, 344, 345, 346, 347, 348, 349, 350, 351, 352, 353, 354, 355, 356, 357, 358, 359, 369, 370, 371, 372, 377, 378, 380, 396, 397, 398, 410, 412, 415, 416, 417, 420, 433, 434, 435]\n"
          ],
          "name": "stdout"
        }
      ]
    },
    {
      "cell_type": "code",
      "metadata": {
        "id": "xxjgNzmnmJ1N",
        "colab_type": "code",
        "outputId": "d8c22774-2b26-402b-b3f0-e8098be68baf",
        "colab": {
          "base_uri": "https://localhost:8080/",
          "height": 92
        }
      },
      "source": [
        "path = '/content/drive/My Drive/Step1/slf_true.csv'\n",
        "get_result(path, candidates)"
      ],
      "execution_count": 0,
      "outputs": [
        {
          "output_type": "stream",
          "text": [
            "133\n",
            "Precision: 0.810\n",
            "Recall: 0.992\n",
            "F-measure: 0.892\n"
          ],
          "name": "stdout"
        }
      ]
    },
    {
      "cell_type": "markdown",
      "metadata": {
        "id": "Zzott_xCmZrN",
        "colab_type": "text"
      },
      "source": [
        "### SBert"
      ]
    },
    {
      "cell_type": "code",
      "metadata": {
        "id": "XBCPxC4nmJt9",
        "colab_type": "code",
        "colab": {}
      },
      "source": [
        "X1, X2 = get_embedd(data1, \"sbert\")"
      ],
      "execution_count": 0,
      "outputs": []
    },
    {
      "cell_type": "code",
      "metadata": {
        "id": "fuRQymPfmJpD",
        "colab_type": "code",
        "outputId": "262d907b-8b8c-414d-ad0e-29b30876de3e",
        "colab": {
          "base_uri": "https://localhost:8080/",
          "height": 56
        }
      },
      "source": [
        "candidates = find_candidates(X1,X2)"
      ],
      "execution_count": 0,
      "outputs": [
        {
          "output_type": "stream",
          "text": [
            "[0, 1, 3, 5, 6, 8, 9, 12, 14, 15, 16, 17, 19, 20, 21, 22, 23, 24, 25, 26, 27, 28, 29, 30, 31, 32, 33, 34, 35, 36, 37, 38, 39, 40, 41, 42, 43, 44, 45, 46, 47, 48, 49, 50, 51, 52, 53, 54, 55, 56, 57, 58, 59, 60, 61, 62, 63, 64, 65, 66, 67, 68, 69, 70, 71, 72, 73, 78, 80, 81, 84, 85, 86, 87, 89, 90, 91, 93, 104, 107, 109, 110, 111, 112, 113, 115, 116, 121, 124, 127, 128, 129, 130, 132, 134, 136, 140, 145, 146, 147, 148, 149, 150, 151, 152, 153, 154, 155, 156, 157, 158, 159, 160, 161, 162, 163, 164, 165, 166, 167, 168, 169, 170, 171, 172, 173, 174, 175, 177, 179, 182, 186, 188, 192, 193, 194, 197, 198, 199, 200, 201, 202, 203, 204, 205, 206, 208, 211, 212, 213, 214, 215, 220, 221, 222, 223, 224, 225, 226]\n"
          ],
          "name": "stdout"
        }
      ]
    },
    {
      "cell_type": "code",
      "metadata": {
        "id": "roMQa9bNmgbl",
        "colab_type": "code",
        "outputId": "95e3b1d8-d863-4a89-b86d-ba54d8651f4e",
        "colab": {
          "base_uri": "https://localhost:8080/",
          "height": 92
        }
      },
      "source": [
        "get_result(path, candidates)"
      ],
      "execution_count": 0,
      "outputs": [
        {
          "output_type": "stream",
          "text": [
            "133\n",
            "Precision: 0.761\n",
            "Recall: 0.910\n",
            "F-measure: 0.829\n"
          ],
          "name": "stdout"
        }
      ]
    },
    {
      "cell_type": "markdown",
      "metadata": {
        "id": "X26Z1hULmnr-",
        "colab_type": "text"
      },
      "source": [
        "### Sroberta"
      ]
    },
    {
      "cell_type": "code",
      "metadata": {
        "id": "G5p3fIhzmg15",
        "colab_type": "code",
        "outputId": "198165d8-a4d3-418a-dadc-3d836b8d52d4",
        "colab": {
          "base_uri": "https://localhost:8080/",
          "height": 36
        }
      },
      "source": [
        "X1, X2 = get_embedd(data1, \"sroberta\")"
      ],
      "execution_count": 0,
      "outputs": [
        {
          "output_type": "stream",
          "text": [
            "100%|██████████| 1.31G/1.31G [00:22<00:00, 59.3MB/s]\n"
          ],
          "name": "stderr"
        }
      ]
    },
    {
      "cell_type": "code",
      "metadata": {
        "id": "zluw-DYnmsWw",
        "colab_type": "code",
        "outputId": "0c28f2b8-ccab-40ef-8ace-f0fc700b3ce8",
        "colab": {
          "base_uri": "https://localhost:8080/",
          "height": 56
        }
      },
      "source": [
        "candidates = find_candidates(X1,X2)"
      ],
      "execution_count": 0,
      "outputs": [
        {
          "output_type": "stream",
          "text": [
            "[0, 3, 8, 9, 12, 13, 14, 15, 16, 17, 18, 19, 20, 21, 22, 23, 24, 25, 26, 27, 28, 29, 30, 31, 32, 33, 34, 35, 36, 37, 38, 39, 40, 41, 42, 43, 44, 45, 46, 47, 48, 49, 50, 51, 52, 53, 54, 55, 56, 57, 58, 59, 60, 61, 62, 63, 64, 65, 66, 67, 68, 69, 70, 71, 72, 73, 78, 80, 81, 84, 85, 87, 88, 90, 91, 93, 107, 109, 111, 113, 115, 116, 121, 124, 127, 132, 134, 136, 137, 138, 139, 140, 145, 146, 147, 148, 149, 150, 151, 152, 153, 154, 155, 156, 157, 158, 159, 160, 161, 162, 163, 164, 165, 166, 167, 168, 169, 170, 171, 172, 173, 174, 175, 177, 179, 182, 186, 188, 192, 193, 194, 197, 199, 200, 202, 203, 204, 205, 206, 207, 208, 211, 212, 213, 214, 215, 217, 219, 220, 221, 222, 223, 224, 226]\n"
          ],
          "name": "stdout"
        }
      ]
    },
    {
      "cell_type": "code",
      "metadata": {
        "id": "VgORxozwmsS9",
        "colab_type": "code",
        "outputId": "e92d9056-87ed-47e0-a27b-7c0da8d1884a",
        "colab": {
          "base_uri": "https://localhost:8080/",
          "height": 92
        }
      },
      "source": [
        "get_result(path, candidates)"
      ],
      "execution_count": 0,
      "outputs": [
        {
          "output_type": "stream",
          "text": [
            "133\n",
            "Precision: 0.825\n",
            "Recall: 0.955\n",
            "F-measure: 0.885\n"
          ],
          "name": "stdout"
        }
      ]
    },
    {
      "cell_type": "markdown",
      "metadata": {
        "id": "Ka51jQFDotfQ",
        "colab_type": "text"
      },
      "source": [
        "### USE"
      ]
    },
    {
      "cell_type": "code",
      "metadata": {
        "id": "c7D1-YcZmgwZ",
        "colab_type": "code",
        "colab": {}
      },
      "source": [
        "import tensorflow_hub as hub\n",
        "import tensorflow as tf\n",
        "import numpy as np"
      ],
      "execution_count": 0,
      "outputs": []
    },
    {
      "cell_type": "code",
      "metadata": {
        "id": "ZFA2r1Z1pY0r",
        "colab_type": "code",
        "outputId": "dce64210-2dc7-4ef3-ed65-80138f9fd26d",
        "colab": {
          "base_uri": "https://localhost:8080/",
          "height": 92
        }
      },
      "source": [
        "X1, X2 = get_embedd(data1, \"use\")"
      ],
      "execution_count": 0,
      "outputs": [
        {
          "output_type": "stream",
          "text": [
            "INFO:absl:Using /tmp/tfhub_modules to cache modules.\n",
            "INFO:absl:Downloading TF-Hub Module 'https://tfhub.dev/google/universal-sentence-encoder/4'.\n",
            "INFO:absl:Downloaded https://tfhub.dev/google/universal-sentence-encoder/4, Total size: 987.47MB\n",
            "INFO:absl:Downloaded TF-Hub Module 'https://tfhub.dev/google/universal-sentence-encoder/4'.\n"
          ],
          "name": "stderr"
        }
      ]
    },
    {
      "cell_type": "code",
      "metadata": {
        "id": "Vi14DstTuLsB",
        "colab_type": "code",
        "outputId": "782f8fd2-7b43-4c6d-e14d-921b96be97c2",
        "colab": {
          "base_uri": "https://localhost:8080/",
          "height": 56
        }
      },
      "source": [
        "candidates = find_candidates(X1,X2)"
      ],
      "execution_count": 0,
      "outputs": [
        {
          "output_type": "stream",
          "text": [
            "[0, 2, 3, 5, 8, 9, 13, 14, 15, 16, 17, 18, 19, 20, 21, 22, 23, 24, 25, 26, 27, 28, 29, 30, 31, 32, 33, 34, 35, 36, 37, 38, 39, 40, 41, 42, 43, 44, 45, 46, 47, 48, 49, 50, 51, 52, 53, 54, 55, 56, 57, 58, 59, 60, 61, 62, 63, 64, 65, 66, 67, 68, 69, 70, 71, 72, 73, 79, 81, 84, 85, 86, 87, 90, 91, 93, 107, 109, 111, 113, 115, 116, 118, 119, 120, 121, 124, 127, 130, 132, 134, 136, 138, 139, 140, 145, 146, 147, 148, 149, 150, 151, 152, 153, 154, 155, 156, 157, 158, 159, 160, 161, 162, 163, 164, 165, 166, 167, 168, 169, 170, 171, 172, 173, 174, 175, 177, 179, 182, 186, 188, 192, 193, 194, 195, 197, 199, 200, 201, 202, 203, 204, 205, 206, 208, 211, 212, 213, 214, 215, 217, 220, 221, 222, 223, 224, 225, 226]\n"
          ],
          "name": "stdout"
        }
      ]
    },
    {
      "cell_type": "code",
      "metadata": {
        "id": "e-EIQxspyL3Y",
        "colab_type": "code",
        "outputId": "60c8ec22-f239-4de7-85f2-adb3d23c1436",
        "colab": {
          "base_uri": "https://localhost:8080/",
          "height": 92
        }
      },
      "source": [
        "get_result(path, candidates)"
      ],
      "execution_count": 0,
      "outputs": [
        {
          "output_type": "stream",
          "text": [
            "133\n",
            "Precision: 0.816\n",
            "Recall: 0.970\n",
            "F-measure: 0.887\n"
          ],
          "name": "stdout"
        }
      ]
    }
  ]
}