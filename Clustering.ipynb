{
  "nbformat": 4,
  "nbformat_minor": 0,
  "metadata": {
    "colab": {
      "name": "Clustering.ipynb",
      "provenance": [],
      "collapsed_sections": []
    },
    "kernelspec": {
      "name": "python3",
      "display_name": "Python 3"
    }
  },
  "cells": [
    {
      "cell_type": "code",
      "metadata": {
        "id": "kEWQtpLBZjXK",
        "colab_type": "code",
        "colab": {}
      },
      "source": [
        "import numpy as np\n",
        "from sklearn.cluster import KMeans\n",
        "from sklearn import metrics\n",
        "import pandas as pd\n",
        "import matplotlib.pyplot as plt\n",
        "import pandas as pd\n",
        "from sklearn.feature_extraction.text import CountVectorizer\n",
        "from sklearn.cluster import SpectralClustering \n",
        "from sklearn.cluster import AffinityPropagation\n",
        "from sklearn.cluster import AgglomerativeClustering\n",
        "from sklearn.cluster import DBSCAN\n",
        "import scipy.linalg as spla\n",
        "import scipy.spatial\n",
        "from collections import Counter\n"
      ],
      "execution_count": 0,
      "outputs": []
    },
    {
      "cell_type": "code",
      "metadata": {
        "id": "0rOF9QBBZ27l",
        "colab_type": "code",
        "outputId": "b5217f07-67e2-4f52-9aef-d52c8fd1dbdd",
        "colab": {
          "base_uri": "https://localhost:8080/",
          "height": 279
        }
      },
      "source": [
        "! pip install bcubed\n",
        "!pip install pyamg"
      ],
      "execution_count": 0,
      "outputs": [
        {
          "output_type": "stream",
          "text": [
            "Requirement already satisfied: bcubed in /usr/local/lib/python3.6/dist-packages (1.5)\n",
            "Requirement already satisfied: numpy in /usr/local/lib/python3.6/dist-packages (from bcubed) (1.18.4)\n",
            "Requirement already satisfied: pyamg in /usr/local/lib/python3.6/dist-packages (4.0.0)\n",
            "Requirement already satisfied: scipy>=0.12.0 in /usr/local/lib/python3.6/dist-packages (from pyamg) (1.4.1)\n",
            "Requirement already satisfied: pytest>=2 in /usr/local/lib/python3.6/dist-packages (from pyamg) (3.6.4)\n",
            "Requirement already satisfied: numpy>=1.7.0 in /usr/local/lib/python3.6/dist-packages (from pyamg) (1.18.4)\n",
            "Requirement already satisfied: pybind11>=2.2 in /usr/local/lib/python3.6/dist-packages (from pyamg) (2.5.0)\n",
            "Requirement already satisfied: attrs>=17.4.0 in /usr/local/lib/python3.6/dist-packages (from pytest>=2->pyamg) (19.3.0)\n",
            "Requirement already satisfied: py>=1.5.0 in /usr/local/lib/python3.6/dist-packages (from pytest>=2->pyamg) (1.8.1)\n",
            "Requirement already satisfied: atomicwrites>=1.0 in /usr/local/lib/python3.6/dist-packages (from pytest>=2->pyamg) (1.4.0)\n",
            "Requirement already satisfied: more-itertools>=4.0.0 in /usr/local/lib/python3.6/dist-packages (from pytest>=2->pyamg) (8.3.0)\n",
            "Requirement already satisfied: pluggy<0.8,>=0.5 in /usr/local/lib/python3.6/dist-packages (from pytest>=2->pyamg) (0.7.1)\n",
            "Requirement already satisfied: six>=1.10.0 in /usr/local/lib/python3.6/dist-packages (from pytest>=2->pyamg) (1.12.0)\n",
            "Requirement already satisfied: setuptools in /usr/local/lib/python3.6/dist-packages (from pytest>=2->pyamg) (47.1.1)\n"
          ],
          "name": "stdout"
        }
      ]
    },
    {
      "cell_type": "code",
      "metadata": {
        "id": "rUSOj4IGZ9vq",
        "colab_type": "code",
        "colab": {}
      },
      "source": [
        "import bcubed"
      ],
      "execution_count": 0,
      "outputs": []
    },
    {
      "cell_type": "code",
      "metadata": {
        "id": "W-Iea0fIZ_P0",
        "colab_type": "code",
        "outputId": "6d48a134-3644-4a77-e9da-3699bbaf3a57",
        "colab": {
          "base_uri": "https://localhost:8080/",
          "height": 36
        }
      },
      "source": [
        "from google.colab import drive\n",
        "drive.mount('/content/drive')"
      ],
      "execution_count": 0,
      "outputs": [
        {
          "output_type": "stream",
          "text": [
            "Drive already mounted at /content/drive; to attempt to forcibly remount, call drive.mount(\"/content/drive\", force_remount=True).\n"
          ],
          "name": "stdout"
        }
      ]
    },
    {
      "cell_type": "markdown",
      "metadata": {
        "id": "S_Zh2D_OaNTt",
        "colab_type": "text"
      },
      "source": [
        "### prep data"
      ]
    },
    {
      "cell_type": "code",
      "metadata": {
        "id": "BPsvySqQaQ2p",
        "colab_type": "code",
        "colab": {}
      },
      "source": [
        "def load_data(path):\n",
        "    doc_data1 = pd.read_csv(path, header = None)\n",
        "    print(len(doc_data1))\n",
        "    return doc_data1"
      ],
      "execution_count": 0,
      "outputs": []
    },
    {
      "cell_type": "code",
      "metadata": {
        "id": "fPtRpHGSaWU3",
        "colab_type": "code",
        "colab": {}
      },
      "source": [
        "def normalize(data):\n",
        "    sentences = (data[0].str.lower() #lowercase\n",
        "                           .str.replace(r'[^\\w\\s]+', '') #rem punctuation \n",
        "                          .str.strip()) #rem trailing whitespaces\n",
        "    return sentences"
      ],
      "execution_count": 0,
      "outputs": []
    },
    {
      "cell_type": "code",
      "metadata": {
        "id": "kE14toFVaZiK",
        "colab_type": "code",
        "colab": {}
      },
      "source": [
        "def get_embedd(data):\n",
        "  vectorizer = CountVectorizer()\n",
        "  X1 = vectorizer.fit_transform(data) # corpus\n",
        "  X1 = X1.toarray()\n",
        "  return X1"
      ],
      "execution_count": 0,
      "outputs": []
    },
    {
      "cell_type": "code",
      "metadata": {
        "id": "-utLSUYRdqtF",
        "colab_type": "code",
        "colab": {}
      },
      "source": [
        "def get_fscore(result, dict_lables):\n",
        "  result = result.tolist()\n",
        "  dictOf_cluster_lables = { i : {result[i]} for i in range(0, len(result) ) }\n",
        "\n",
        "  precision = bcubed.precision(dictOf_cluster_lables, dict_lables)\n",
        "  recall = bcubed.recall(dictOf_cluster_lables, dict_lables)\n",
        "  fscore = bcubed.fscore(precision, recall)\n",
        "  return fscore\n",
        "  # print(\"F-BCubed: %0.3f\"\n",
        "  #       %fscore)"
      ],
      "execution_count": 0,
      "outputs": []
    },
    {
      "cell_type": "code",
      "metadata": {
        "id": "XCwAmzUEadqF",
        "colab_type": "code",
        "colab": {}
      },
      "source": [
        "def silhouette(all_data, X, labels, method = \"kmeans\", k_from = 2, k_to = 10, step = 1):\n",
        "  try:\n",
        "    if (method == \"spectr_precomp\"):\n",
        "      matrix = get_matrix(X)\n",
        "    \n",
        "    if method in (\"kmeans\", \"spectr\", \"spectr_precomp\", \"aglom_complete\", \"aglom_average\"):\n",
        "      sil = []\n",
        "      for k in range(k_from, k_to, step ):\n",
        "            if method == \"kmeans\":\n",
        "              kmeans = KMeans(n_clusters = k).fit(X)\n",
        "              labels = kmeans.labels_\n",
        "            elif method == \"spectr\":\n",
        "              spectr = SpectralClustering(n_clusters=k, affinity=\"rbf\", gamma=0.01,eigen_solver = 'amg',n_init=20).fit(X)\n",
        "              labels = spectr.labels_\n",
        "            elif method == \"spectr_precomp\":\n",
        "              spectr_prec = SpectralClustering(n_clusters=k, affinity=\"precomputed\", gamma=0.01).fit(matrix)\n",
        "              labels = spectr_prec.labels_\n",
        "            elif method == \"aglom_complete\":\n",
        "              aglom= AgglomerativeClustering(n_clusters = k, linkage = \"complete\", affinity = \"cosine\").fit(X)\n",
        "              labels = aglom.labels_\n",
        "            elif method == \"aglom_average\":\n",
        "              aglom= AgglomerativeClustering(n_clusters = k, linkage = \"average\", affinity = \"cosine\").fit(X)\n",
        "              labels = aglom.labels_\n",
        "\n",
        "            sil.append(metrics.silhouette_score(X, labels, metric = 'cosine'))\n",
        "\n",
        "    plt.plot(range(k_from, k_to, step), sil, marker='s');\n",
        "    plt.xlabel('$k$')\n",
        "    plt.ylabel('$J(C_k)$');\n",
        "\n",
        "    for i in range(0,len(sil)):\n",
        "        if sil[i]==max(sil):\n",
        "            rez = i\n",
        "    return (k_from +rez*step)\n",
        "  except:\n",
        "          print(\"You can use kmeans, spectr, spectr_precomp, aglom_complete, aglom_average\")\n"
      ],
      "execution_count": 0,
      "outputs": []
    },
    {
      "cell_type": "code",
      "metadata": {
        "id": "YDkfS3Ln3B7Q",
        "colab_type": "code",
        "colab": {}
      },
      "source": [
        "def max_f(all_data, X, labels, method = \"kmeans\", k_from = 2, k_to = 10, step = 1):\n",
        "  try:\n",
        "    if ((method == \"spectr_precomp\") or ()):\n",
        "      matrix = get_matrix(X)\n",
        "    \n",
        "    if method in (\"kmeans\", \"spectr\", \"spectr_precomp\", \"aglom_complete\", \"aglom_average\"):\n",
        "      f_scores = []\n",
        "      for k in range(k_from, k_to, step ):\n",
        "            if method == \"kmeans\":\n",
        "              cluster = KMeans(n_clusters = k).fit(X)\n",
        "            elif method == \"spectr\":\n",
        "              cluster = SpectralClustering(n_clusters=k, affinity=\"rbf\", gamma=0.01,eigen_solver = 'amg',n_init=20).fit(X)\n",
        "            elif method == \"spectr_precomp\":\n",
        "              cluster = SpectralClustering(n_clusters=k, affinity=\"precomputed\", gamma=0.01).fit(matrix)\n",
        "            elif method == \"aglom_complete\":\n",
        "              cluster = AgglomerativeClustering(n_clusters = k, linkage = \"complete\", affinity = \"cosine\").fit(X)\n",
        "            elif method == \"aglom_average\":\n",
        "              cluster = AgglomerativeClustering(n_clusters = k, linkage = \"average\", affinity = \"cosine\").fit(X)\n",
        "              \n",
        "            labels = cluster.labels_\n",
        "            f_scores.append(get_fscore(labels, dict_lables))\n",
        "    \n",
        "    plt.plot(range(k_from, k_to, step), f_scores, marker='s');\n",
        "    plt.xlabel('$k$')\n",
        "    plt.ylabel('$J(C_k)$');\n",
        "\n",
        "    return max(f_scores)\n",
        "  except:\n",
        "    print(\"You can use kmeans, spectr, spectr_precomp, aglom_complete, aglom_average\")"
      ],
      "execution_count": 0,
      "outputs": []
    },
    {
      "cell_type": "code",
      "metadata": {
        "id": "ArExOCjzalpE",
        "colab_type": "code",
        "colab": {}
      },
      "source": [
        "def kmeans_result(X, true_k):\n",
        "    clustering_model = KMeans( n_clusters=true_k)\n",
        "    clustering_model.fit(X)\n",
        "    cluster_assignment = clustering_model.labels_\n",
        "    print(\"Silhouette Coefficient: %0.3f\"\n",
        "        % metrics.silhouette_score(X, cluster_assignment, metric='cosine', sample_size=len(X)))\n",
        "    return cluster_assignment"
      ],
      "execution_count": 0,
      "outputs": []
    },
    {
      "cell_type": "code",
      "metadata": {
        "id": "yLafyq2XbPUs",
        "colab_type": "code",
        "colab": {}
      },
      "source": [
        "from scipy.spatial.distance import cosine\n",
        "\n",
        "def get_matrix(my_data):\n",
        "  length = my_data.shape[0]\n",
        "  da = np.zeros((length, length))\n",
        "  pairs = [(i, j) for i in range(length) for j in range(i+1, length)]\n",
        "  for i, j in (pairs):\n",
        "      dist = 1 - cosine(my_data[i], my_data[j])\n",
        "      da[i, j] = da[j, i] = dist\n",
        "  return da"
      ],
      "execution_count": 0,
      "outputs": []
    },
    {
      "cell_type": "markdown",
      "metadata": {
        "id": "5-RoepIiatr5",
        "colab_type": "text"
      },
      "source": [
        "### data"
      ]
    },
    {
      "cell_type": "code",
      "metadata": {
        "id": "T7_FQZOVapUh",
        "colab_type": "code",
        "outputId": "bdbf5aaa-9f46-454a-e44c-81304739daac",
        "colab": {
          "base_uri": "https://localhost:8080/",
          "height": 36
        }
      },
      "source": [
        "true_data = load_data('/content/drive/My Drive/Step2/slf_full.csv')\n",
        "labels = true_data[2]"
      ],
      "execution_count": 0,
      "outputs": [
        {
          "output_type": "stream",
          "text": [
            "226\n"
          ],
          "name": "stdout"
        }
      ]
    },
    {
      "cell_type": "code",
      "metadata": {
        "id": "ZSydaGAFbLD2",
        "colab_type": "code",
        "colab": {}
      },
      "source": [
        "data1 = normalize(true_data)\n",
        "X = get_embedd(data1)"
      ],
      "execution_count": 0,
      "outputs": []
    },
    {
      "cell_type": "code",
      "metadata": {
        "id": "GgjpZE_SbZ-R",
        "colab_type": "code",
        "colab": {}
      },
      "source": [
        "matrix = get_matrix(X)"
      ],
      "execution_count": 0,
      "outputs": []
    },
    {
      "cell_type": "code",
      "metadata": {
        "id": "WPHKLo5ybhKp",
        "colab_type": "code",
        "colab": {}
      },
      "source": [
        "dict_lables = labels.to_dict()\n",
        "dict_lables = { i : {dict_lables[i]} for i in range(0, len(dict_lables) ) }"
      ],
      "execution_count": 0,
      "outputs": []
    },
    {
      "cell_type": "code",
      "metadata": {
        "id": "RlZXor5ibniq",
        "colab_type": "code",
        "colab": {}
      },
      "source": [
        ""
      ],
      "execution_count": 0,
      "outputs": []
    },
    {
      "cell_type": "markdown",
      "metadata": {
        "id": "Yd_C8KcdbpjS",
        "colab_type": "text"
      },
      "source": [
        "### k-means"
      ]
    },
    {
      "cell_type": "code",
      "metadata": {
        "id": "E-tFrPbg2ULe",
        "colab_type": "code",
        "outputId": "713c21d5-d697-4246-d98e-d7a9b1442e50",
        "colab": {
          "base_uri": "https://localhost:8080/",
          "height": 300
        }
      },
      "source": [
        "max_f(true_data, X, labels, 'kmeans', 90, 150, 1)"
      ],
      "execution_count": 0,
      "outputs": [
        {
          "output_type": "execute_result",
          "data": {
            "text/plain": [
              "0.9074592385651482"
            ]
          },
          "metadata": {
            "tags": []
          },
          "execution_count": 151
        },
        {
          "output_type": "display_data",
          "data": {
            "image/png": "[encoded data removed]",
            "text/plain": [
              "<Figure size 432x288 with 1 Axes>"
            ]
          },
          "metadata": {
            "tags": [],
            "needs_background": "light"
          }
        }
      ]
    },
    {
      "cell_type": "code",
      "metadata": {
        "id": "fAkY2Y2Jbrdd",
        "colab_type": "code",
        "outputId": "3cee70f7-5320-4cea-f1fb-ba32366fd36d",
        "colab": {
          "base_uri": "https://localhost:8080/",
          "height": 301
        }
      },
      "source": [
        "ncluster = silhouette(true_data, X, labels, 'kmeans', 90, 105, 1) \n",
        "print(ncluster)"
      ],
      "execution_count": 0,
      "outputs": [
        {
          "output_type": "stream",
          "text": [
            "94\n"
          ],
          "name": "stdout"
        },
        {
          "output_type": "display_data",
          "data": {
            "image/png": "[encoded data removed]",
            "text/plain": [
              "<Figure size 432x288 with 1 Axes>"
            ]
          },
          "metadata": {
            "tags": [],
            "needs_background": "light"
          }
        }
      ]
    },
    {
      "cell_type": "code",
      "metadata": {
        "id": "aCcKROt8cQUd",
        "colab_type": "code",
        "outputId": "b54dfeaf-0d5f-46d3-907d-50a2e2f25265",
        "colab": {
          "base_uri": "https://localhost:8080/",
          "height": 54
        }
      },
      "source": [
        "result = kmeans_result(X, 94)\n",
        "get_fscore(result, dict_lables)\n"
      ],
      "execution_count": 0,
      "outputs": [
        {
          "output_type": "stream",
          "text": [
            "Silhouette Coefficient: 0.481\n",
            "F-BCubed: 0.869\n"
          ],
          "name": "stdout"
        }
      ]
    },
    {
      "cell_type": "markdown",
      "metadata": {
        "id": "SbnLFYSCgbWG",
        "colab_type": "text"
      },
      "source": [
        "### DF\n"
      ]
    },
    {
      "cell_type": "code",
      "metadata": {
        "id": "Vh8gcaRvp1zr",
        "colab_type": "code",
        "colab": {}
      },
      "source": [
        "def create_csv(true_data,result):\n",
        "  rows_list = []\n",
        "  for i in range(0, len(result)):\n",
        "    c = Counter(result)\n",
        "    if (c[result[i]]>1):\n",
        "          dict1 = {}\n",
        "          dict1.update({\"text\": true_data[0][i], \"num\": true_data[1][i], \"cluster\": result[i] }) \n",
        "\n",
        "          rows_list.append(dict1)\n",
        "\n",
        "  df = pd.DataFrame(rows_list) \n",
        "  \n",
        "  df.to_csv('file_name.csv', index=False)\n",
        "  !cp file_name.csv \"/content/drive/My Drive/cluster_rez\"\n",
        "  print(\"Saved to disk\")\n"
      ],
      "execution_count": 0,
      "outputs": []
    },
    {
      "cell_type": "code",
      "metadata": {
        "id": "29cTIFpyqUwn",
        "colab_type": "code",
        "outputId": "8d8f2676-10c7-4191-9a4e-f60c04615293",
        "colab": {
          "base_uri": "https://localhost:8080/",
          "height": 36
        }
      },
      "source": [
        "create_csv(true_data, result)"
      ],
      "execution_count": 0,
      "outputs": [
        {
          "output_type": "stream",
          "text": [
            "Saved to disk\n"
          ],
          "name": "stdout"
        }
      ]
    },
    {
      "cell_type": "markdown",
      "metadata": {
        "id": "COOqu8LseFws",
        "colab_type": "text"
      },
      "source": [
        "### spect"
      ]
    },
    {
      "cell_type": "code",
      "metadata": {
        "id": "29Li-Oxc6qPz",
        "colab_type": "code",
        "outputId": "e1216050-1178-4bdb-faed-9eacf507dc3f",
        "colab": {
          "base_uri": "https://localhost:8080/",
          "height": 303
        }
      },
      "source": [
        "max_f(true_data, X, labels, 'spectr', 90, 140, 1)"
      ],
      "execution_count": 0,
      "outputs": [
        {
          "output_type": "execute_result",
          "data": {
            "text/plain": [
              "0.8971868138936808"
            ]
          },
          "metadata": {
            "tags": []
          },
          "execution_count": 152
        },
        {
          "output_type": "display_data",
          "data": {
            "image/png": "[encoded data removed]",
            "text/plain": [
              "<Figure size 432x288 with 1 Axes>"
            ]
          },
          "metadata": {
            "tags": [],
            "needs_background": "light"
          }
        }
      ]
    },
    {
      "cell_type": "code",
      "metadata": {
        "id": "-S6Evs5kwlX1",
        "colab_type": "code",
        "outputId": "f2f5350f-3c51-4ada-c9cc-3dc6047e4bf6",
        "colab": {
          "base_uri": "https://localhost:8080/",
          "height": 300
        }
      },
      "source": [
        "ncluster = silhouette(true_data, X, labels, \"spectr\", 80, 100, 1)\n",
        "print(ncluster)"
      ],
      "execution_count": 0,
      "outputs": [
        {
          "output_type": "stream",
          "text": [
            "82\n"
          ],
          "name": "stdout"
        },
        {
          "output_type": "display_data",
          "data": {
            "image/png": "[encoded data removed]",
            "text/plain": [
              "<Figure size 432x288 with 1 Axes>"
            ]
          },
          "metadata": {
            "tags": [],
            "needs_background": "light"
          }
        }
      ]
    },
    {
      "cell_type": "code",
      "metadata": {
        "id": "UlrON0JBasE5",
        "colab_type": "code",
        "colab": {}
      },
      "source": [
        "clustering = SpectralClustering(n_clusters=82, affinity=\"rbf\", gamma=0.01,eigen_solver = 'amg',n_init=20).fit(X)\n",
        "cluster_assignment = clustering.labels_"
      ],
      "execution_count": 0,
      "outputs": []
    },
    {
      "cell_type": "code",
      "metadata": {
        "id": "NZQNHoDra51g",
        "colab_type": "code",
        "outputId": "f9c33fce-6b2a-473f-e701-21257dfbb7c6",
        "colab": {
          "base_uri": "https://localhost:8080/",
          "height": 36
        }
      },
      "source": [
        "get_fscore(cluster_assignment, dict_lables)"
      ],
      "execution_count": 0,
      "outputs": [
        {
          "output_type": "stream",
          "text": [
            "F-BCubed: 0.870\n"
          ],
          "name": "stdout"
        }
      ]
    },
    {
      "cell_type": "code",
      "metadata": {
        "id": "4k41jDWC7Or1",
        "colab_type": "code",
        "outputId": "8de70b92-6720-4916-f4df-714122446ecd",
        "colab": {
          "base_uri": "https://localhost:8080/",
          "height": 300
        }
      },
      "source": [
        "max_f(true_data, X, labels, 'spectr_precomp', 90, 140, 1)"
      ],
      "execution_count": 0,
      "outputs": [
        {
          "output_type": "execute_result",
          "data": {
            "text/plain": [
              "0.7980164432656167"
            ]
          },
          "metadata": {
            "tags": []
          },
          "execution_count": 153
        },
        {
          "output_type": "display_data",
          "data": {
            "image/png": "[encoded data removed]",
            "text/plain": [
              "<Figure size 432x288 with 1 Axes>"
            ]
          },
          "metadata": {
            "tags": [],
            "needs_background": "light"
          }
        }
      ]
    },
    {
      "cell_type": "code",
      "metadata": {
        "id": "BqY1I_5gczh0",
        "colab_type": "code",
        "outputId": "00d28763-64f2-4296-fbac-cf65c737e248",
        "colab": {
          "base_uri": "https://localhost:8080/",
          "height": 300
        }
      },
      "source": [
        "ncluster = silhouette(true_data, X, labels, \"spectr_precomp\", 85, 105, 1)\n",
        "print(ncluster)"
      ],
      "execution_count": 0,
      "outputs": [
        {
          "output_type": "stream",
          "text": [
            "86\n"
          ],
          "name": "stdout"
        },
        {
          "output_type": "display_data",
          "data": {
            "image/png": "[encoded data removed]",
            "text/plain": [
              "<Figure size 432x288 with 1 Axes>"
            ]
          },
          "metadata": {
            "tags": [],
            "needs_background": "light"
          }
        }
      ]
    },
    {
      "cell_type": "code",
      "metadata": {
        "id": "5PymjH7mbZbZ",
        "colab_type": "code",
        "colab": {}
      },
      "source": [
        "matrix = get_matrix(X)\n",
        "clustering = SpectralClustering(n_clusters=86, affinity=\"precomputed\", gamma=0.01).fit(matrix)\n",
        "cluster_assignment = clustering.labels_"
      ],
      "execution_count": 0,
      "outputs": []
    },
    {
      "cell_type": "code",
      "metadata": {
        "id": "UvLvdpHAb5Sx",
        "colab_type": "code",
        "outputId": "171a1eb8-0094-4fbb-a9a3-5bc333b6093d",
        "colab": {
          "base_uri": "https://localhost:8080/",
          "height": 36
        }
      },
      "source": [
        "get_fscore(cluster_assignment, dict_lables)"
      ],
      "execution_count": 0,
      "outputs": [
        {
          "output_type": "stream",
          "text": [
            "F-BCubed: 0.774\n"
          ],
          "name": "stdout"
        }
      ]
    },
    {
      "cell_type": "markdown",
      "metadata": {
        "id": "SQ9ol3oCeHec",
        "colab_type": "text"
      },
      "source": [
        "### af prop"
      ]
    },
    {
      "cell_type": "code",
      "metadata": {
        "id": "nQbRKqKeeD5W",
        "colab_type": "code",
        "outputId": "7cde5584-6738-45ca-c85a-a0c629a68075",
        "colab": {
          "base_uri": "https://localhost:8080/",
          "height": 36
        }
      },
      "source": [
        "matrix = get_matrix(X)\n",
        "clustering = AffinityPropagation(affinity=\"precomputed\", damping = 0.7, preference = 0.9).fit(matrix)\n",
        "cluster_assignment = clustering.labels_\n",
        "print(\"Silhouette Coefficient: %0.3f\"\n",
        "        % metrics.silhouette_score(X, cluster_assignment, metric='cosine', sample_size=len(X)))"
      ],
      "execution_count": 0,
      "outputs": [
        {
          "output_type": "stream",
          "text": [
            "Silhouette Coefficient: 0.497\n"
          ],
          "name": "stdout"
        }
      ]
    },
    {
      "cell_type": "code",
      "metadata": {
        "id": "sPNv_VI4gkXX",
        "colab_type": "code",
        "outputId": "826da164-bfdb-43f7-8c66-4c3956afe993",
        "colab": {
          "base_uri": "https://localhost:8080/",
          "height": 36
        }
      },
      "source": [
        "get_fscore(cluster_assignment, dict_lables)"
      ],
      "execution_count": 0,
      "outputs": [
        {
          "output_type": "stream",
          "text": [
            "F-BCubed: 0.933\n"
          ],
          "name": "stdout"
        }
      ]
    },
    {
      "cell_type": "markdown",
      "metadata": {
        "id": "a4qmtBNSg0ZS",
        "colab_type": "text"
      },
      "source": [
        "## aglom k"
      ]
    },
    {
      "cell_type": "code",
      "metadata": {
        "id": "PKHjyDyi7p73",
        "colab_type": "code",
        "outputId": "dd0b1578-98e6-4d32-c2b2-e498f783ed44",
        "colab": {
          "base_uri": "https://localhost:8080/",
          "height": 300
        }
      },
      "source": [
        "max_f(true_data, X, labels, 'aglom_complete', 90, 140, 1)"
      ],
      "execution_count": 0,
      "outputs": [
        {
          "output_type": "execute_result",
          "data": {
            "text/plain": [
              "0.9343326881837297"
            ]
          },
          "metadata": {
            "tags": []
          },
          "execution_count": 154
        },
        {
          "output_type": "display_data",
          "data": {
            "image/png": "[encoded data removed]",
            "text/plain": [
              "<Figure size 432x288 with 1 Axes>"
            ]
          },
          "metadata": {
            "tags": [],
            "needs_background": "light"
          }
        }
      ]
    },
    {
      "cell_type": "code",
      "metadata": {
        "id": "LVRcRF-IhbE7",
        "colab_type": "code",
        "outputId": "b3457723-5372-44e8-e99f-16571b9e8ed2",
        "colab": {
          "base_uri": "https://localhost:8080/",
          "height": 300
        }
      },
      "source": [
        "ncluster = silhouette(true_data, X, labels, \"aglom_complete\", 85, 100, 1)\n",
        "print(ncluster)"
      ],
      "execution_count": 0,
      "outputs": [
        {
          "output_type": "stream",
          "text": [
            "92\n"
          ],
          "name": "stdout"
        },
        {
          "output_type": "display_data",
          "data": {
            "image/png": "[encoded data removed]",
            "text/plain": [
              "<Figure size 432x288 with 1 Axes>"
            ]
          },
          "metadata": {
            "tags": [],
            "needs_background": "light"
          }
        }
      ]
    },
    {
      "cell_type": "code",
      "metadata": {
        "id": "RcsAaM1gg2Um",
        "colab_type": "code",
        "outputId": "b3eacaa0-0f78-47cc-cbf4-d6b4bf1ea0fb",
        "colab": {
          "base_uri": "https://localhost:8080/",
          "height": 36
        }
      },
      "source": [
        "aglom = AgglomerativeClustering(n_clusters = 92, linkage = \"complete\", affinity = \"cosine\").fit(X)\n",
        "cluster_assignment = aglom.labels_\n",
        "print(\"Silhouette Coefficient: %0.3f\"\n",
        "        % metrics.silhouette_score(X, cluster_assignment, metric='cosine', sample_size=len(X)))"
      ],
      "execution_count": 0,
      "outputs": [
        {
          "output_type": "stream",
          "text": [
            "Silhouette Coefficient: 0.594\n"
          ],
          "name": "stdout"
        }
      ]
    },
    {
      "cell_type": "code",
      "metadata": {
        "id": "oImD9Q0HiCDt",
        "colab_type": "code",
        "outputId": "c1904142-ebbf-40ba-964d-5b5265d80f61",
        "colab": {
          "base_uri": "https://localhost:8080/",
          "height": 36
        }
      },
      "source": [
        "get_fscore(cluster_assignment, dict_lables)"
      ],
      "execution_count": 0,
      "outputs": [
        {
          "output_type": "stream",
          "text": [
            "F-BCubed: 0.886\n"
          ],
          "name": "stdout"
        }
      ]
    },
    {
      "cell_type": "code",
      "metadata": {
        "id": "gnxOl4hh70SG",
        "colab_type": "code",
        "outputId": "6a86a942-e0a6-4e33-e242-8dbae49bcdf0",
        "colab": {
          "base_uri": "https://localhost:8080/",
          "height": 300
        }
      },
      "source": [
        "max_f(true_data, X, labels, 'aglom_average', 90, 140, 1)"
      ],
      "execution_count": 0,
      "outputs": [
        {
          "output_type": "execute_result",
          "data": {
            "text/plain": [
              "0.9343326881837297"
            ]
          },
          "metadata": {
            "tags": []
          },
          "execution_count": 155
        },
        {
          "output_type": "display_data",
          "data": {
            "image/png": "[encoded data removed]",
            "text/plain": [
              "<Figure size 432x288 with 1 Axes>"
            ]
          },
          "metadata": {
            "tags": [],
            "needs_background": "light"
          }
        }
      ]
    },
    {
      "cell_type": "code",
      "metadata": {
        "id": "9sCsrGM3iTZT",
        "colab_type": "code",
        "outputId": "05bbe170-b7ff-49fc-f3a3-a6a499191ced",
        "colab": {
          "base_uri": "https://localhost:8080/",
          "height": 300
        }
      },
      "source": [
        "ncluster = silhouette(true_data, X, labels, \"aglom_average\", 85, 100, 1)\n",
        "print(ncluster)"
      ],
      "execution_count": 0,
      "outputs": [
        {
          "output_type": "stream",
          "text": [
            "92\n"
          ],
          "name": "stdout"
        },
        {
          "output_type": "display_data",
          "data": {
            "image/png": "[encoded data removed]",
            "text/plain": [
              "<Figure size 432x288 with 1 Axes>"
            ]
          },
          "metadata": {
            "tags": [],
            "needs_background": "light"
          }
        }
      ]
    },
    {
      "cell_type": "code",
      "metadata": {
        "id": "YGPibDjmi2EA",
        "colab_type": "code",
        "outputId": "6b894c4b-dab6-4edc-ac0f-43c777649da6",
        "colab": {
          "base_uri": "https://localhost:8080/",
          "height": 36
        }
      },
      "source": [
        "aglom = AgglomerativeClustering(n_clusters = 92, linkage = \"average\", affinity = \"cosine\").fit(X)\n",
        "cluster_assignment = aglom.labels_\n",
        "print(\"Silhouette Coefficient: %0.3f\"\n",
        "        % metrics.silhouette_score(X, cluster_assignment, metric='cosine', sample_size=len(X)))"
      ],
      "execution_count": 0,
      "outputs": [
        {
          "output_type": "stream",
          "text": [
            "Silhouette Coefficient: 0.588\n"
          ],
          "name": "stdout"
        }
      ]
    },
    {
      "cell_type": "code",
      "metadata": {
        "id": "eF9YXNCVjFlC",
        "colab_type": "code",
        "outputId": "08e406d5-a7b0-4763-b1ad-d1ae5dc5fdd9",
        "colab": {
          "base_uri": "https://localhost:8080/",
          "height": 36
        }
      },
      "source": [
        "get_fscore(cluster_assignment, dict_lables)"
      ],
      "execution_count": 0,
      "outputs": [
        {
          "output_type": "stream",
          "text": [
            "F-BCubed: 0.883\n"
          ],
          "name": "stdout"
        }
      ]
    },
    {
      "cell_type": "markdown",
      "metadata": {
        "id": "t6ipz4-5jrFW",
        "colab_type": "text"
      },
      "source": [
        "### aglom threshold"
      ]
    },
    {
      "cell_type": "code",
      "metadata": {
        "id": "SOV4bU35jK-Z",
        "colab_type": "code",
        "outputId": "f4beabd7-cfd8-4b5d-d147-7b98162b3834",
        "colab": {
          "base_uri": "https://localhost:8080/",
          "height": 54
        }
      },
      "source": [
        "clustering = AgglomerativeClustering( distance_threshold = 0.1, n_clusters = None, linkage = \"average\", affinity = \"cosine\").fit(X)\n",
        "cluster_assignment = clustering.labels_\n",
        "print(\"Silhouette Coefficient: %0.3f\"\n",
        "        % metrics.silhouette_score(X, cluster_assignment, metric='cosine', sample_size=len(X)))\n",
        "get_fscore(cluster_assignment, dict_lables)"
      ],
      "execution_count": 0,
      "outputs": [
        {
          "output_type": "stream",
          "text": [
            "Silhouette Coefficient: 0.520\n",
            "F-BCubed: 0.927\n"
          ],
          "name": "stdout"
        }
      ]
    },
    {
      "cell_type": "code",
      "metadata": {
        "id": "83mKbCRZ1vjt",
        "colab_type": "code",
        "outputId": "5092fa37-dc8d-4dda-d437-a9e39fe8cd18",
        "colab": {
          "base_uri": "https://localhost:8080/",
          "height": 54
        }
      },
      "source": [
        "clustering = AgglomerativeClustering( distance_threshold = 0.1, n_clusters = None, linkage = \"complete\", affinity = \"cosine\").fit(X)\n",
        "cluster_assignment = clustering.labels_\n",
        "print(\"Silhouette Coefficient: %0.3f\"\n",
        "        % metrics.silhouette_score(X, cluster_assignment, metric='cosine', sample_size=len(X)))\n",
        "get_fscore(cluster_assignment, dict_lables)"
      ],
      "execution_count": 0,
      "outputs": [
        {
          "output_type": "stream",
          "text": [
            "Silhouette Coefficient: 0.520\n",
            "F-BCubed: 0.927\n"
          ],
          "name": "stdout"
        }
      ]
    },
    {
      "cell_type": "markdown",
      "metadata": {
        "id": "qgZ58gOH18dU",
        "colab_type": "text"
      },
      "source": [
        "### dbsan"
      ]
    },
    {
      "cell_type": "code",
      "metadata": {
        "id": "8kQx0MT917lx",
        "colab_type": "code",
        "outputId": "2d403670-9b00-4af0-8b9e-ba15686081dc",
        "colab": {
          "base_uri": "https://localhost:8080/",
          "height": 54
        }
      },
      "source": [
        "clustering = DBSCAN(eps = 0.1, min_samples = 1, metric=\"cosine\", algorithm= \"auto\" ).fit(X)\n",
        "cluster_assignment = clustering.labels_\n",
        "print(\"Silhouette Coefficient: %0.3f\"\n",
        "        % metrics.silhouette_score(X, cluster_assignment, metric='cosine', sample_size=len(X)))\n",
        "get_fscore(cluster_assignment, dict_lables)"
      ],
      "execution_count": 0,
      "outputs": [
        {
          "output_type": "stream",
          "text": [
            "Silhouette Coefficient: 0.524\n",
            "F-BCubed: 0.913\n"
          ],
          "name": "stdout"
        }
      ]
    }
  ]
}