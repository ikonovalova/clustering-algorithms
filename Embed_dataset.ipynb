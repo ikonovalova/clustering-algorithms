{
  "nbformat": 4,
  "nbformat_minor": 0,
  "metadata": {
    "colab": {
      "name": "Well_version_step1.ipynb",
      "provenance": [],
      "collapsed_sections": []
    },
    "kernelspec": {
      "name": "python3",
      "display_name": "Python 3"
    }
  },
  "cells": [
    {
      "cell_type": "code",
      "metadata": {
        "id": "Au2mZtz4_Iw_",
        "colab_type": "code",
        "colab": {}
      },
      "source": [
        "import numpy as np\n",
        "from sklearn import metrics\n",
        "import pandas as pd\n",
        "import matplotlib.pyplot as plt\n",
        "import scipy.spatial\n",
        "from sklearn.utils import shuffle\n",
        "from nltk.metrics import precision, recall, f_measure\n",
        "import scipy.stats as st"
      ],
      "execution_count": 0,
      "outputs": []
    },
    {
      "cell_type": "code",
      "metadata": {
        "id": "zV9PBAta_QRy",
        "colab_type": "code",
        "outputId": "a333cc4f-4c73-4c85-fd65-c9140e1357c9",
        "colab": {
          "base_uri": "https://localhost:8080/",
          "height": 879
        }
      },
      "source": [
        "!pip install sentence_transformers"
      ],
      "execution_count": 2,
      "outputs": [
        {
          "output_type": "stream",
          "text": [
            "Collecting sentence_transformers\n",
            "\u001b[?25l  Downloading https://files.pythonhosted.org/packages/b9/46/b7d6c37d92d1bd65319220beabe4df845434930e3f30e42d3cfaecb74dc4/sentence-transformers-0.2.6.1.tar.gz (55kB)\n",
            "\u001b[K     |████████████████████████████████| 61kB 2.1MB/s \n",
            "\u001b[?25hCollecting transformers>=2.8.0\n",
            "\u001b[?25l  Downloading https://files.pythonhosted.org/packages/48/35/ad2c5b1b8f99feaaf9d7cdadaeef261f098c6e1a6a2935d4d07662a6b780/transformers-2.11.0-py3-none-any.whl (674kB)\n",
            "\u001b[K     |████████████████████████████████| 675kB 8.4MB/s \n",
            "\u001b[?25hRequirement already satisfied: tqdm in /usr/local/lib/python3.6/dist-packages (from sentence_transformers) (4.41.1)\n",
            "Requirement already satisfied: torch>=1.0.1 in /usr/local/lib/python3.6/dist-packages (from sentence_transformers) (1.5.0+cu101)\n",
            "Requirement already satisfied: numpy in /usr/local/lib/python3.6/dist-packages (from sentence_transformers) (1.18.4)\n",
            "Requirement already satisfied: scikit-learn in /usr/local/lib/python3.6/dist-packages (from sentence_transformers) (0.22.2.post1)\n",
            "Requirement already satisfied: scipy in /usr/local/lib/python3.6/dist-packages (from sentence_transformers) (1.4.1)\n",
            "Requirement already satisfied: nltk in /usr/local/lib/python3.6/dist-packages (from sentence_transformers) (3.2.5)\n",
            "Collecting tokenizers==0.7.0\n",
            "\u001b[?25l  Downloading https://files.pythonhosted.org/packages/14/e5/a26eb4716523808bb0a799fcfdceb6ebf77a18169d9591b2f46a9adb87d9/tokenizers-0.7.0-cp36-cp36m-manylinux1_x86_64.whl (3.8MB)\n",
            "\u001b[K     |████████████████████████████████| 3.8MB 16.7MB/s \n",
            "\u001b[?25hRequirement already satisfied: dataclasses; python_version < \"3.7\" in /usr/local/lib/python3.6/dist-packages (from transformers>=2.8.0->sentence_transformers) (0.7)\n",
            "Requirement already satisfied: requests in /usr/local/lib/python3.6/dist-packages (from transformers>=2.8.0->sentence_transformers) (2.23.0)\n",
            "Requirement already satisfied: packaging in /usr/local/lib/python3.6/dist-packages (from transformers>=2.8.0->sentence_transformers) (20.4)\n",
            "Requirement already satisfied: filelock in /usr/local/lib/python3.6/dist-packages (from transformers>=2.8.0->sentence_transformers) (3.0.12)\n",
            "Collecting sacremoses\n",
            "\u001b[?25l  Downloading https://files.pythonhosted.org/packages/7d/34/09d19aff26edcc8eb2a01bed8e98f13a1537005d31e95233fd48216eed10/sacremoses-0.0.43.tar.gz (883kB)\n",
            "\u001b[K     |████████████████████████████████| 890kB 33.7MB/s \n",
            "\u001b[?25hCollecting sentencepiece\n",
            "\u001b[?25l  Downloading https://files.pythonhosted.org/packages/d4/a4/d0a884c4300004a78cca907a6ff9a5e9fe4f090f5d95ab341c53d28cbc58/sentencepiece-0.1.91-cp36-cp36m-manylinux1_x86_64.whl (1.1MB)\n",
            "\u001b[K     |████████████████████████████████| 1.1MB 46.1MB/s \n",
            "\u001b[?25hRequirement already satisfied: regex!=2019.12.17 in /usr/local/lib/python3.6/dist-packages (from transformers>=2.8.0->sentence_transformers) (2019.12.20)\n",
            "Requirement already satisfied: future in /usr/local/lib/python3.6/dist-packages (from torch>=1.0.1->sentence_transformers) (0.16.0)\n",
            "Requirement already satisfied: joblib>=0.11 in /usr/local/lib/python3.6/dist-packages (from scikit-learn->sentence_transformers) (0.15.1)\n",
            "Requirement already satisfied: six in /usr/local/lib/python3.6/dist-packages (from nltk->sentence_transformers) (1.12.0)\n",
            "Requirement already satisfied: urllib3!=1.25.0,!=1.25.1,<1.26,>=1.21.1 in /usr/local/lib/python3.6/dist-packages (from requests->transformers>=2.8.0->sentence_transformers) (1.24.3)\n",
            "Requirement already satisfied: certifi>=2017.4.17 in /usr/local/lib/python3.6/dist-packages (from requests->transformers>=2.8.0->sentence_transformers) (2020.4.5.1)\n",
            "Requirement already satisfied: idna<3,>=2.5 in /usr/local/lib/python3.6/dist-packages (from requests->transformers>=2.8.0->sentence_transformers) (2.9)\n",
            "Requirement already satisfied: chardet<4,>=3.0.2 in /usr/local/lib/python3.6/dist-packages (from requests->transformers>=2.8.0->sentence_transformers) (3.0.4)\n",
            "Requirement already satisfied: pyparsing>=2.0.2 in /usr/local/lib/python3.6/dist-packages (from packaging->transformers>=2.8.0->sentence_transformers) (2.4.7)\n",
            "Requirement already satisfied: click in /usr/local/lib/python3.6/dist-packages (from sacremoses->transformers>=2.8.0->sentence_transformers) (7.1.2)\n",
            "Building wheels for collected packages: sentence-transformers, sacremoses\n",
            "  Building wheel for sentence-transformers (setup.py) ... \u001b[?25l\u001b[?25hdone\n",
            "  Created wheel for sentence-transformers: filename=sentence_transformers-0.2.6.1-cp36-none-any.whl size=74031 sha256=7dbbeae3effb11394e684a3d27f9898f054027e9a3708a6d73539457b86d8cd7\n",
            "  Stored in directory: /root/.cache/pip/wheels/d7/fa/17/2b081a8cd8b0a86753fb0e9826b3cc19f0207062c0b2da7008\n",
            "  Building wheel for sacremoses (setup.py) ... \u001b[?25l\u001b[?25hdone\n",
            "  Created wheel for sacremoses: filename=sacremoses-0.0.43-cp36-none-any.whl size=893260 sha256=b94f5a9afee2ec9eb19c76dbba78d0cb8c728d7d2a3315006c227b0e9296e479\n",
            "  Stored in directory: /root/.cache/pip/wheels/29/3c/fd/7ce5c3f0666dab31a50123635e6fb5e19ceb42ce38d4e58f45\n",
            "Successfully built sentence-transformers sacremoses\n",
            "Installing collected packages: tokenizers, sacremoses, sentencepiece, transformers, sentence-transformers\n",
            "Successfully installed sacremoses-0.0.43 sentence-transformers-0.2.6.1 sentencepiece-0.1.91 tokenizers-0.7.0 transformers-2.11.0\n"
          ],
          "name": "stdout"
        }
      ]
    },
    {
      "cell_type": "code",
      "metadata": {
        "id": "R9GbODVWmpp_",
        "colab_type": "code",
        "colab": {}
      },
      "source": [
        "import tensorflow_hub as hub\n",
        "import tensorflow as tf\n",
        "import numpy as np"
      ],
      "execution_count": 0,
      "outputs": []
    },
    {
      "cell_type": "code",
      "metadata": {
        "id": "rQTH_JvzTyxU",
        "colab_type": "code",
        "outputId": "0e69951c-6a50-4d3e-a436-2a439efbbb0b",
        "colab": {
          "base_uri": "https://localhost:8080/",
          "height": 131
        }
      },
      "source": [
        "from google.colab import drive\n",
        "drive.mount('/content/drive')"
      ],
      "execution_count": 4,
      "outputs": [
        {
          "output_type": "stream",
          "text": [
            "Go to this URL in a browser: https://accounts.google.com/o/oauth2/auth?client_id=947318989803-6bn6qk8qdgf4n4g3pfee6491hc0brc4i.apps.googleusercontent.com&redirect_uri=urn%3aietf%3awg%3aoauth%3a2.0%3aoob&response_type=code&scope=email%20https%3a%2f%2fwww.googleapis.com%2fauth%2fdocs.test%20https%3a%2f%2fwww.googleapis.com%2fauth%2fdrive%20https%3a%2f%2fwww.googleapis.com%2fauth%2fdrive.photos.readonly%20https%3a%2f%2fwww.googleapis.com%2fauth%2fpeopleapi.readonly\n",
            "\n",
            "Enter your authorization code:\n",
            "··········\n",
            "Mounted at /content/drive\n"
          ],
          "name": "stdout"
        }
      ]
    },
    {
      "cell_type": "code",
      "metadata": {
        "id": "PG-dbtAgTzUP",
        "colab_type": "code",
        "colab": {}
      },
      "source": [
        "from sklearn.feature_extraction.text import CountVectorizer"
      ],
      "execution_count": 0,
      "outputs": []
    },
    {
      "cell_type": "code",
      "metadata": {
        "id": "apa8ZGPbTzX_",
        "colab_type": "code",
        "colab": {}
      },
      "source": [
        "data = pd.read_csv('/content/drive/My Drive/data_emb/dataset.csv',header = None)"
      ],
      "execution_count": 0,
      "outputs": []
    },
    {
      "cell_type": "code",
      "metadata": {
        "id": "9ClQTmE_Tzdt",
        "colab_type": "code",
        "colab": {}
      },
      "source": [
        "vectorizer = CountVectorizer()"
      ],
      "execution_count": 0,
      "outputs": []
    },
    {
      "cell_type": "code",
      "metadata": {
        "id": "pUKfPlfyTzb9",
        "colab_type": "code",
        "colab": {}
      },
      "source": [
        "my_vectors = data[[0,1]]"
      ],
      "execution_count": 0,
      "outputs": []
    },
    {
      "cell_type": "code",
      "metadata": {
        "id": "lCTVk0waUKWV",
        "colab_type": "code",
        "colab": {}
      },
      "source": [
        "row1 = data[0]\n",
        "row2=data[1]"
      ],
      "execution_count": 0,
      "outputs": []
    },
    {
      "cell_type": "code",
      "metadata": {
        "id": "q_3C4WjWUD3i",
        "colab_type": "code",
        "outputId": "1b4b041d-ac4b-4113-a421-78110f91e5fc",
        "colab": {
          "base_uri": "https://localhost:8080/",
          "height": 36
        }
      },
      "source": [
        "len(row1)"
      ],
      "execution_count": 0,
      "outputs": [
        {
          "output_type": "execute_result",
          "data": {
            "text/plain": [
              "2638"
            ]
          },
          "metadata": {
            "tags": []
          },
          "execution_count": 25
        }
      ]
    },
    {
      "cell_type": "code",
      "metadata": {
        "id": "QuVfd-dNUD7_",
        "colab_type": "code",
        "colab": {}
      },
      "source": [
        "row1 = row1[:500]\n",
        "row2 = row2[:500]"
      ],
      "execution_count": 0,
      "outputs": []
    },
    {
      "cell_type": "code",
      "metadata": {
        "id": "DGjUdQhSUEGD",
        "colab_type": "code",
        "outputId": "d718839a-d8bd-4f2e-a73c-8e83ae2e3d44",
        "colab": {
          "base_uri": "https://localhost:8080/",
          "height": 36
        }
      },
      "source": [
        "len(row1)"
      ],
      "execution_count": 0,
      "outputs": [
        {
          "output_type": "execute_result",
          "data": {
            "text/plain": [
              "500"
            ]
          },
          "metadata": {
            "tags": []
          },
          "execution_count": 27
        }
      ]
    },
    {
      "cell_type": "code",
      "metadata": {
        "id": "ISDx4dGuUEDU",
        "colab_type": "code",
        "colab": {}
      },
      "source": [
        "corpus_embeddings = vectorizer.fit_transform(row1)\n",
        "query_embeddings =vectorizer.fit_transform(row2)"
      ],
      "execution_count": 0,
      "outputs": []
    },
    {
      "cell_type": "code",
      "metadata": {
        "id": "WoawaW-ZUEBJ",
        "colab_type": "code",
        "colab": {}
      },
      "source": [
        "X1 = corpus_embeddings.toarray()\n",
        "X2 = query_embeddings.toarray()"
      ],
      "execution_count": 0,
      "outputs": []
    },
    {
      "cell_type": "code",
      "metadata": {
        "id": "nLwM7tKvUD_m",
        "colab_type": "code",
        "colab": {}
      },
      "source": [
        "data_test = data[2]"
      ],
      "execution_count": 0,
      "outputs": []
    },
    {
      "cell_type": "code",
      "metadata": {
        "id": "iPtWdcauWECc",
        "colab_type": "code",
        "colab": {}
      },
      "source": [
        "data_test = data_test[:500]"
      ],
      "execution_count": 0,
      "outputs": []
    },
    {
      "cell_type": "code",
      "metadata": {
        "id": "DSW-_ttGWEGU",
        "colab_type": "code",
        "colab": {}
      },
      "source": [
        "def get_fscore(data, threshold=0.8, method = \"CountVectorizer\"):\n",
        "  row1 = data[0]\n",
        "  row2 = data[1]\n",
        "  results = []\n",
        "  num_sentence = 0\n",
        "  len_rows = len(row1)\n",
        "\n",
        "  if method == \"use\":\n",
        "      embedder = hub.load(\"https://tfhub.dev/google/universal-sentence-encoder/4\")\n",
        "  elif method == \"sroberta\":\n",
        "      embedder = SentenceTransformer('roberta-base-nli-mean-tokens')\n",
        "  elif method == \"sbert\":\n",
        "      embedder = SentenceTransformer('bert-base-nli-mean-tokens')\n",
        "\n",
        "  elif method == \"CountVectorizer\":\n",
        "      vectorizer = CountVectorizer()\n",
        "\n",
        "  for i in range(0,len_rows):\n",
        "    if method in (\"sbert\", \"sroberta\"):\n",
        "        row1emb = embedder.encode([row1[i], row2[i]] )\n",
        "    elif method == \"use\":\n",
        "        row1emb = embedder([row1[i], row2[i]] )\n",
        "    else:\n",
        "        row1emb = vectorizer.fit_transform([row1[i], row2[i]] )\n",
        "\n",
        "    distances = metrics.pairwise.cosine_similarity(row1emb[0:1], row1emb[1:2])[0, 0]\n",
        "    if (distances > threshold):\n",
        "          results.append(1)\n",
        "    else:\n",
        "          results.append(0)\n",
        "  return results"
      ],
      "execution_count": 0,
      "outputs": []
    },
    {
      "cell_type": "code",
      "metadata": {
        "id": "7vyxns_qWEKv",
        "colab_type": "code",
        "colab": {}
      },
      "source": [
        "data_test = data_test[:500]"
      ],
      "execution_count": 0,
      "outputs": []
    },
    {
      "cell_type": "markdown",
      "metadata": {
        "id": "e8oV1aFsXG8C",
        "colab_type": "text"
      },
      "source": [
        "для порога = 0.8"
      ]
    },
    {
      "cell_type": "code",
      "metadata": {
        "id": "qyVJzFZOWw7O",
        "colab_type": "code",
        "outputId": "6bc3b987-68ce-4f5e-89c3-196a4d382a7f",
        "colab": {
          "base_uri": "https://localhost:8080/",
          "height": 36
        }
      },
      "source": [
        "f1measure = metrics.f1_score(data_test, get_fscore(row1, row2, threshold=0.8))\n",
        "print(f1measure)"
      ],
      "execution_count": 0,
      "outputs": [
        {
          "output_type": "stream",
          "text": [
            "0.8468468468468467\n"
          ],
          "name": "stdout"
        }
      ]
    },
    {
      "cell_type": "markdown",
      "metadata": {
        "id": "dhHFlSkfXReh",
        "colab_type": "text"
      },
      "source": [
        "для порога = 0.9\n"
      ]
    },
    {
      "cell_type": "code",
      "metadata": {
        "id": "yglV076OWw-b",
        "colab_type": "code",
        "outputId": "50e1ce18-d5d5-474d-d1c3-4022675984e5",
        "colab": {
          "base_uri": "https://localhost:8080/",
          "height": 36
        }
      },
      "source": [
        "f1measure = metrics.f1_score(data_test, get_fscore(row1, row2, threshold=0.9))\n",
        "print(f1measure)"
      ],
      "execution_count": 0,
      "outputs": [
        {
          "output_type": "stream",
          "text": [
            "0.6940451745379876\n"
          ],
          "name": "stdout"
        }
      ]
    },
    {
      "cell_type": "markdown",
      "metadata": {
        "id": "Ut4ZX5y1deRd",
        "colab_type": "text"
      },
      "source": [
        "### CountVect"
      ]
    },
    {
      "cell_type": "code",
      "metadata": {
        "id": "jZ4cdjKhdhUR",
        "colab_type": "code",
        "colab": {}
      },
      "source": [
        "data = pd.read_csv('/content/drive/My Drive/data_emb/dataset.csv',header = None)"
      ],
      "execution_count": 0,
      "outputs": []
    },
    {
      "cell_type": "code",
      "metadata": {
        "id": "FmM0FksWdlDJ",
        "colab_type": "code",
        "outputId": "2c24e7be-9af6-46e5-97c5-c26ec53839ea",
        "colab": {
          "base_uri": "https://localhost:8080/",
          "height": 36
        }
      },
      "source": [
        "f1measure = metrics.f1_score(data[2], get_fscore(data, threshold=0.8))\n",
        "print(f1measure)"
      ],
      "execution_count": 0,
      "outputs": [
        {
          "output_type": "stream",
          "text": [
            "0.9008130081300814\n"
          ],
          "name": "stdout"
        }
      ]
    },
    {
      "cell_type": "code",
      "metadata": {
        "id": "tpBRwT-Gdx6V",
        "colab_type": "code",
        "colab": {}
      },
      "source": [
        "f1_arr = []\n",
        "for i in range(100, 2600, 100):\n",
        "  separ = i\n",
        "  data = shuffle(data)\n",
        "  data.reset_index(inplace=True, drop=True)\n",
        "  f1measure = metrics.f1_score(data[2][:separ], get_fscore(data[:separ], threshold=0.8))\n",
        "  f1_arr.append(f1measure)"
      ],
      "execution_count": 0,
      "outputs": []
    },
    {
      "cell_type": "code",
      "metadata": {
        "id": "55f0kzl9HJxY",
        "colab_type": "code",
        "colab": {
          "base_uri": "https://localhost:8080/",
          "height": 54
        },
        "outputId": "7c317f62-bdf9-4b83-ec06-bed3e18c3ec4"
      },
      "source": [
        "import numpy\n",
        "mean_f1 = numpy.mean(f1_arr)\n",
        "std_f1 = numpy.std(f1_arr)\n",
        "\n",
        "print('Mean:', mean_f1)\n",
        "print('Standard Deviation:', std_f1)"
      ],
      "execution_count": 43,
      "outputs": [
        {
          "output_type": "stream",
          "text": [
            "Mean: 0.9005196531057171\n",
            "Standard Deviation: 0.007343019403532\n"
          ],
          "name": "stdout"
        }
      ]
    },
    {
      "cell_type": "code",
      "metadata": {
        "id": "tSYCriXIeybJ",
        "colab_type": "code",
        "outputId": "4cf2c8d2-a511-41a9-dc9e-1b016330628d",
        "colab": {
          "base_uri": "https://localhost:8080/",
          "height": 54
        }
      },
      "source": [
        "import numpy\n",
        "mean_f1 = numpy.mean(f1_arr)\n",
        "std_f1 = numpy.std(f1_arr)\n",
        "\n",
        "print('Mean:', mean_f1)\n",
        "print('Standard Deviation:', std_f1)"
      ],
      "execution_count": 0,
      "outputs": [
        {
          "output_type": "stream",
          "text": [
            "Mean: 0.8842186358800688\n",
            "Standard Deviation: 0.03040012025566086\n"
          ],
          "name": "stdout"
        }
      ]
    },
    {
      "cell_type": "code",
      "metadata": {
        "id": "79OEu6gF-niZ",
        "colab_type": "code",
        "outputId": "e3882715-a66b-46b6-d3d5-c98798fe2b7f",
        "colab": {
          "base_uri": "https://localhost:8080/",
          "height": 36
        }
      },
      "source": [
        "interval = st.norm.interval(\n",
        "            0.95, loc=np.mean(f1_arr), scale=np.std(f1_arr))\n",
        "\n",
        "print((interval[1]-interval[0])/2)"
      ],
      "execution_count": 0,
      "outputs": [
        {
          "output_type": "stream",
          "text": [
            "0.059583140826781844\n"
          ],
          "name": "stdout"
        }
      ]
    },
    {
      "cell_type": "markdown",
      "metadata": {
        "id": "uyByIMAyXldx",
        "colab_type": "text"
      },
      "source": [
        "### roberta"
      ]
    },
    {
      "cell_type": "code",
      "metadata": {
        "id": "7TVwNoaAXkaF",
        "colab_type": "code",
        "colab": {}
      },
      "source": [
        "data = pd.read_csv('/content/drive/My Drive/data_emb/dataset.csv',header = None)"
      ],
      "execution_count": 0,
      "outputs": []
    },
    {
      "cell_type": "code",
      "metadata": {
        "id": "atTgWAXaXbVu",
        "colab_type": "code",
        "outputId": "ac92c2b3-7b18-4a1b-fd29-f9744fa9e68c",
        "colab": {
          "base_uri": "https://localhost:8080/",
          "height": 54
        }
      },
      "source": [
        "f1measure = metrics.f1_score(data[2], get_fscore(data, threshold=0.8, method = \"sroberta\"))\n",
        "print(f1measure)"
      ],
      "execution_count": 0,
      "outputs": [
        {
          "output_type": "stream",
          "text": [
            "100%|██████████| 459M/459M [00:24<00:00, 19.0MB/s]\n"
          ],
          "name": "stderr"
        },
        {
          "output_type": "stream",
          "text": [
            "0.9263466471234886\n"
          ],
          "name": "stdout"
        }
      ]
    },
    {
      "cell_type": "code",
      "metadata": {
        "id": "hEbEY1aNlon1",
        "colab_type": "code",
        "colab": {}
      },
      "source": [
        "f1_arr = []\n",
        "for i in range(100, 2600, 100):\n",
        "  separ = i\n",
        "  data = shuffle(data)\n",
        "  data.reset_index(inplace=True, drop=True)\n",
        "  f1measure = metrics.f1_score(data[2][:separ], get_fscore(data[:separ], threshold=0.8, method = \"sroberta\"))\n",
        "  f1_arr.append(f1measure)"
      ],
      "execution_count": 0,
      "outputs": []
    },
    {
      "cell_type": "code",
      "metadata": {
        "id": "Fa46Nnuhl4ar",
        "colab_type": "code",
        "outputId": "e0e5d57c-7812-4f0f-8914-3d41ea889a9c",
        "colab": {
          "base_uri": "https://localhost:8080/",
          "height": 54
        }
      },
      "source": [
        "mean_f1 = numpy.mean(f1_arr)\n",
        "std_f1 = numpy.std(f1_arr)\n",
        "\n",
        "print('Mean:', mean_f1)\n",
        "print('Standard Deviation:', std_f1)"
      ],
      "execution_count": 0,
      "outputs": [
        {
          "output_type": "stream",
          "text": [
            "Mean: 0.8813148563612752\n",
            "Standard Deviation: 0.03281033117526479\n"
          ],
          "name": "stdout"
        }
      ]
    },
    {
      "cell_type": "code",
      "metadata": {
        "id": "Ondr9htTl5ke",
        "colab_type": "code",
        "outputId": "39ddd7b7-7f94-423d-e8d0-2c99609afe70",
        "colab": {
          "base_uri": "https://localhost:8080/",
          "height": 36
        }
      },
      "source": [
        "interval = st.norm.interval(\n",
        "            0.95, loc=np.mean(f1_arr), scale=np.std(f1_arr))\n",
        "\n",
        "print((interval[1]-interval[0])/2)"
      ],
      "execution_count": 0,
      "outputs": [
        {
          "output_type": "stream",
          "text": [
            "0.06430706742435077\n"
          ],
          "name": "stdout"
        }
      ]
    },
    {
      "cell_type": "markdown",
      "metadata": {
        "id": "3YNC2eoBmUhN",
        "colab_type": "text"
      },
      "source": [
        "### USE"
      ]
    },
    {
      "cell_type": "code",
      "metadata": {
        "id": "Jk4Icm19sd1f",
        "colab_type": "code",
        "outputId": "379431cb-cada-48bd-93d6-e1f4cdb8f7a5",
        "colab": {
          "base_uri": "https://localhost:8080/",
          "height": 36
        }
      },
      "source": [
        "f1measure = metrics.f1_score(data[2], get_fscore(data, threshold=0.8, method = \"use\"))\n",
        "print(f1measure)"
      ],
      "execution_count": 0,
      "outputs": [
        {
          "output_type": "stream",
          "text": [
            "0.8708733806936899\n"
          ],
          "name": "stdout"
        }
      ]
    },
    {
      "cell_type": "code",
      "metadata": {
        "id": "FNAg2pximaf9",
        "colab_type": "code",
        "colab": {}
      },
      "source": [
        "f1_arr = []\n",
        "for i in range(100, 2600, 100):\n",
        "  separ = i\n",
        "  data = shuffle(data)\n",
        "  data.reset_index(inplace=True, drop=True)\n",
        "  f1measure = metrics.f1_score(data[2][:separ], get_fscore(data[:separ], threshold=0.8, method = \"use\"))\n",
        "  f1_arr.append(f1measure)"
      ],
      "execution_count": 0,
      "outputs": []
    },
    {
      "cell_type": "code",
      "metadata": {
        "id": "UhSNJv6_sRBb",
        "colab_type": "code",
        "outputId": "355a122c-1067-4235-afee-681d100bd193",
        "colab": {
          "base_uri": "https://localhost:8080/",
          "height": 54
        }
      },
      "source": [
        "mean_f1 = numpy.mean(f1_arr)\n",
        "std_f1 = numpy.std(f1_arr)\n",
        "\n",
        "print('Mean:', mean_f1)\n",
        "print('Standard Deviation:', std_f1)"
      ],
      "execution_count": 0,
      "outputs": [
        {
          "output_type": "stream",
          "text": [
            "Mean: 0.8751586468604882\n",
            "Standard Deviation: 0.03250012225566086\n"
          ],
          "name": "stdout"
        }
      ]
    },
    {
      "cell_type": "code",
      "metadata": {
        "id": "3aORSYce9yHh",
        "colab_type": "code",
        "outputId": "ca4e899b-bb22-4c73-ed10-6315c7585cda",
        "colab": {
          "base_uri": "https://localhost:8080/",
          "height": 36
        }
      },
      "source": [
        "st.norm.interval(\n",
        "            0.95, loc=np.mean(f1_arr), scale=np.std(f1_arr))"
      ],
      "execution_count": 0,
      "outputs": [
        {
          "output_type": "execute_result",
          "data": {
            "text/plain": [
              "(0.8114595777462442, 0.9388577159747321)"
            ]
          },
          "metadata": {
            "tags": []
          },
          "execution_count": 92
        }
      ]
    },
    {
      "cell_type": "code",
      "metadata": {
        "id": "1bkAsob7sV4p",
        "colab_type": "code",
        "outputId": "656087ad-39f3-4fdb-8cc3-d6756a6661f5",
        "colab": {
          "base_uri": "https://localhost:8080/",
          "height": 485
        }
      },
      "source": [
        "f1_arr"
      ],
      "execution_count": 0,
      "outputs": [
        {
          "output_type": "execute_result",
          "data": {
            "text/plain": [
              "[1.0,\n",
              " 0.8834355828220859,\n",
              " 0.8780487804878049,\n",
              " 0.8866498740554157,\n",
              " 0.8854166666666666,\n",
              " 0.8305555555555555,\n",
              " 0.8370535714285714,\n",
              " 0.8411214953271027,\n",
              " 0.8411214953271027,\n",
              " 0.8402489626556017,\n",
              " 0.8402489626556017,\n",
              " 0.8508384819064431,\n",
              " 0.8715251690458301,\n",
              " 0.8875816993464052,\n",
              " 0.8961114335461405,\n",
              " 0.8959276018099548,\n",
              " 0.8918918918918919,\n",
              " 0.8878923766816144,\n",
              " 0.8864017907106884,\n",
              " 0.8830624016780283,\n",
              " 0.8765670202507233,\n",
              " 0.8735529830810329,\n",
              " 0.87123745819398,\n",
              " 0.87123745819398,\n",
              " 0.87123745819398]"
            ]
          },
          "metadata": {
            "tags": []
          },
          "execution_count": 79
        }
      ]
    },
    {
      "cell_type": "markdown",
      "metadata": {
        "id": "AQD36CXqtxiw",
        "colab_type": "text"
      },
      "source": [
        "### bert"
      ]
    },
    {
      "cell_type": "code",
      "metadata": {
        "id": "5mfPXFpZsV1f",
        "colab_type": "code",
        "outputId": "d0ee4c9a-8bf4-4b29-8fa8-7cea584512bc",
        "colab": {
          "base_uri": "https://localhost:8080/",
          "height": 36
        }
      },
      "source": [
        "f1measure = metrics.f1_score(data[2], get_fscore(data, threshold=0.8, method = \"sbert\"))\n",
        "print(f1measure) "
      ],
      "execution_count": 0,
      "outputs": [
        {
          "output_type": "stream",
          "text": [
            "0.9092203631185476\n"
          ],
          "name": "stdout"
        }
      ]
    },
    {
      "cell_type": "code",
      "metadata": {
        "id": "vnuQQOret6EI",
        "colab_type": "code",
        "colab": {}
      },
      "source": [
        "f1_arr = []\n",
        "for i in range(100, 2600, 100):\n",
        "  separ = i\n",
        "  data = shuffle(data)\n",
        "  data.reset_index(inplace=True, drop=True)\n",
        "  f1measure = metrics.f1_score(data[2][:separ], get_fscore(data[:separ], threshold=0.8, method = \"sbert\"))\n",
        "  f1_arr.append(f1measure)"
      ],
      "execution_count": 0,
      "outputs": []
    },
    {
      "cell_type": "code",
      "metadata": {
        "id": "YT_osfBEt6CR",
        "colab_type": "code",
        "outputId": "5bce2ecb-044c-45bf-cd97-587d5f886a5f",
        "colab": {
          "base_uri": "https://localhost:8080/",
          "height": 54
        }
      },
      "source": [
        "mean_f1 = numpy.mean(f1_arr)\n",
        "std_f1 = numpy.std(f1_arr)\n",
        "\n",
        "print('Mean:', mean_f1)\n",
        "print('Standard Deviation:', std_f1)"
      ],
      "execution_count": 0,
      "outputs": [
        {
          "output_type": "stream",
          "text": [
            "Mean: 0.8614615538839357\n",
            "Standard Deviation: 0.03290312284509809\n"
          ],
          "name": "stdout"
        }
      ]
    },
    {
      "cell_type": "code",
      "metadata": {
        "id": "0JMXW5446s3L",
        "colab_type": "code",
        "outputId": "2bd43cfc-574c-4ad3-8616-13b5786ca532",
        "colab": {
          "base_uri": "https://localhost:8080/",
          "height": 36
        }
      },
      "source": [
        "interval = st.norm.interval(\n",
        "            0.95, loc=np.mean(f1_arr), scale=np.std(f1_arr))\n",
        "\n",
        "print((interval[1]-interval[0])/2)"
      ],
      "execution_count": 0,
      "outputs": [
        {
          "output_type": "stream",
          "text": [
            "0.06448893575528936\n"
          ],
          "name": "stdout"
        }
      ]
    }
  ]
}