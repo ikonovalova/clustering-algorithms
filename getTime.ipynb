{
  "nbformat": 4,
  "nbformat_minor": 0,
  "metadata": {
    "colab": {
      "name": "getTime.ipynb",
      "provenance": [],
      "collapsed_sections": [
        "IEiFSTfLxy1J",
        "23xjJf4YUAmN",
        "QKQsGxEZXJyD",
        "v39Q3wSwbpnA",
        "JX4mISxNWYcU",
        "WNlLrFghcS4z"
      ]
    },
    "kernelspec": {
      "name": "python3",
      "display_name": "Python 3"
    }
  },
  "cells": [
    {
      "cell_type": "code",
      "metadata": {
        "id": "c5VaZ0K-OgSA",
        "colab_type": "code",
        "colab": {}
      },
      "source": [
        "import numpy as np\n",
        "from sklearn import metrics\n",
        "from sklearn.feature_extraction.text import CountVectorizer\n",
        "from sklearn.cluster import AffinityPropagation\n",
        "from sklearn.cluster import AgglomerativeClustering\n",
        "from sklearn.cluster import DBSCAN\n",
        "import scipy.linalg as spla\n",
        "import scipy.spatial\n",
        "import pandas as pd\n",
        "import scipy.stats as st"
      ],
      "execution_count": 0,
      "outputs": []
    },
    {
      "cell_type": "code",
      "metadata": {
        "id": "4P3JualOOlg6",
        "colab_type": "code",
        "outputId": "0f002f80-3c90-4fa9-e0fd-22592a738fc2",
        "colab": {
          "base_uri": "https://localhost:8080/",
          "height": 131
        }
      },
      "source": [
        "from google.colab import drive\n",
        "drive.mount('/content/drive')"
      ],
      "execution_count": 2,
      "outputs": [
        {
          "output_type": "stream",
          "text": [
            "Go to this URL in a browser: https://accounts.google.com/o/oauth2/auth?client_id=947318989803-6bn6qk8qdgf4n4g3pfee6491hc0brc4i.apps.googleusercontent.com&redirect_uri=urn%3aietf%3awg%3aoauth%3a2.0%3aoob&response_type=code&scope=email%20https%3a%2f%2fwww.googleapis.com%2fauth%2fdocs.test%20https%3a%2f%2fwww.googleapis.com%2fauth%2fdrive%20https%3a%2f%2fwww.googleapis.com%2fauth%2fdrive.photos.readonly%20https%3a%2f%2fwww.googleapis.com%2fauth%2fpeopleapi.readonly\n",
            "\n",
            "Enter your authorization code:\n",
            "··········\n",
            "Mounted at /content/drive\n"
          ],
          "name": "stdout"
        }
      ]
    },
    {
      "cell_type": "markdown",
      "metadata": {
        "id": "FjDnPZT_iMoS",
        "colab_type": "text"
      },
      "source": [
        "### data\n"
      ]
    },
    {
      "cell_type": "code",
      "metadata": {
        "id": "J2a89RWYQzK-",
        "colab_type": "code",
        "colab": {}
      },
      "source": [
        "def load_data(path):\n",
        "    doc_data1 = pd.read_csv(path, header = None)\n",
        "    print(len(doc_data1))\n",
        "    return doc_data1"
      ],
      "execution_count": 0,
      "outputs": []
    },
    {
      "cell_type": "code",
      "metadata": {
        "id": "kZAkhf3kjvvQ",
        "colab_type": "code",
        "colab": {}
      },
      "source": [
        "def normalize(data):\n",
        "    sentences = (data[0].str.lower() #lowercase\n",
        "                           .str.replace(r'[^\\w\\s]+', '') #rem punctuation \n",
        "                          .str.strip()) #rem trailing whitespaces\n",
        "    return sentences"
      ],
      "execution_count": 0,
      "outputs": []
    },
    {
      "cell_type": "code",
      "metadata": {
        "id": "SANhGOqTjynD",
        "colab_type": "code",
        "colab": {}
      },
      "source": [
        "def get_embedd(data1):\n",
        "  vectorizer = CountVectorizer()\n",
        "  X1 = vectorizer.fit_transform(data1) # corpus\n",
        "  X1 = X1.toarray()\n",
        "  return X1"
      ],
      "execution_count": 0,
      "outputs": []
    },
    {
      "cell_type": "code",
      "metadata": {
        "id": "DCqeqb5FvBlG",
        "colab_type": "code",
        "outputId": "75b420f2-8820-4676-9e18-126647fc54a7",
        "colab": {
          "base_uri": "https://localhost:8080/",
          "height": 36
        }
      },
      "source": [
        "true_data = load_data('/content/drive/My Drive/Step2/swt.csv')\n",
        "labels = true_data[2]"
      ],
      "execution_count": 8,
      "outputs": [
        {
          "output_type": "stream",
          "text": [
            "1454\n"
          ],
          "name": "stdout"
        }
      ]
    },
    {
      "cell_type": "code",
      "metadata": {
        "id": "FCAlJm7XvffB",
        "colab_type": "code",
        "colab": {}
      },
      "source": [
        "data1 = normalize(true_data)\n",
        "X = get_embedd(data1)"
      ],
      "execution_count": 0,
      "outputs": []
    },
    {
      "cell_type": "markdown",
      "metadata": {
        "id": "VSSpuCIxYy7Y",
        "colab_type": "text"
      },
      "source": [
        "### time"
      ]
    },
    {
      "cell_type": "code",
      "metadata": {
        "id": "UTne2QNLVAOo",
        "colab_type": "code",
        "colab": {}
      },
      "source": [
        "def get_time(X, method = \"aglom\"):\n",
        "    time_score = []\n",
        "    for i in range(0,30):\n",
        "        if (method == \"affin\"):\n",
        "          time_score.append(timeit(lambda: AffinityPropagation(damping = 0.8).fit(X), number=1))\n",
        "        elif (method == \"dbscan\"):\n",
        "          time_score.append(timeit(lambda: DBSCAN( eps = 0.3, min_samples = 1, metric=\"cosine\", algorithm= \"auto\" ).fit(X), number=1))        \n",
        "        else:\n",
        "          time_score.append(timeit(lambda: AgglomerativeClustering( distance_threshold = 0.1, n_clusters = None, linkage = \"average\", affinity = \"cosine\").fit(X), number=1))\n",
        "\n",
        "\n",
        "    time_mean = np.mean(time_score)\n",
        "    print(\"Mean: %0.2f\" % time_mean)\n",
        "    interval = st.norm.interval(\n",
        "            0.95, loc=np.mean(time_score), scale=np.std(time_score))\n",
        "  \n",
        "    print(\"CI: %0.2f\" % ((interval[1]-interval[0])/2))"
      ],
      "execution_count": 0,
      "outputs": []
    },
    {
      "cell_type": "code",
      "metadata": {
        "id": "Oy2rjQSWYSaq",
        "colab_type": "code",
        "colab": {
          "base_uri": "https://localhost:8080/",
          "height": 54
        },
        "outputId": "1861eea3-1977-4797-a5ca-ca2f5bd81d21"
      },
      "source": [
        "get_time(X, \"affin\")"
      ],
      "execution_count": 49,
      "outputs": [
        {
          "output_type": "stream",
          "text": [
            "Mean: 7.12\n",
            "CI: 0.93\n"
          ],
          "name": "stdout"
        }
      ]
    },
    {
      "cell_type": "code",
      "metadata": {
        "id": "Md2NQ4g4WqqH",
        "colab_type": "code",
        "colab": {
          "base_uri": "https://localhost:8080/",
          "height": 54
        },
        "outputId": "d841f5fc-425f-4efe-b92d-b8bf273f3512"
      },
      "source": [
        "get_time(X, \"aglom\")"
      ],
      "execution_count": 50,
      "outputs": [
        {
          "output_type": "stream",
          "text": [
            "Mean: 3.72\n",
            "CI: 0.29\n"
          ],
          "name": "stdout"
        }
      ]
    },
    {
      "cell_type": "code",
      "metadata": {
        "id": "GnbDNrXsV29e",
        "colab_type": "code",
        "colab": {
          "base_uri": "https://localhost:8080/",
          "height": 54
        },
        "outputId": "bcd597fd-a30f-4245-f024-af6d5efaa136"
      },
      "source": [
        "get_time(X, \"dbscan\")"
      ],
      "execution_count": 51,
      "outputs": [
        {
          "output_type": "stream",
          "text": [
            "Mean: 0.44\n",
            "CI: 0.06\n"
          ],
          "name": "stdout"
        }
      ]
    },
    {
      "cell_type": "code",
      "metadata": {
        "id": "-D2HTQJ7hY2q",
        "colab_type": "code",
        "colab": {}
      },
      "source": [
        ""
      ],
      "execution_count": 0,
      "outputs": []
    }
  ]
}